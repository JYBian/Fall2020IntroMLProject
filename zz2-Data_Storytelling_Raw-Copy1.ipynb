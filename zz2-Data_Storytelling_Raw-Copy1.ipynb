{
 "cells": [
  {
   "cell_type": "markdown",
   "metadata": {},
   "source": [
    "# Data Storytelling\n",
    "\n",
    "## ADNI Alzheimer's Data"
   ]
  },
  {
   "cell_type": "code",
   "execution_count": 133,
   "metadata": {},
   "outputs": [],
   "source": [
    "# import standard packages\n",
    "import numpy as np\n",
    "import pandas as pd\n",
    "import matplotlib.pyplot as plt\n",
    "import seaborn as sns\n",
    "import datetime\n",
    "from datetime import timedelta\n",
    "\n",
    "import eda\n",
    "\n",
    "# display matplotlib inline\n",
    "%matplotlib inline\n",
    "\n",
    "# import wrangle_adni to import/wrangle the data\n",
    "from adnidatawrangling import wrangle_adni\n",
    "\n",
    "# set defaults for sns\n",
    "sns.set()"
   ]
  },
  {
   "cell_type": "code",
   "execution_count": 67,
   "metadata": {},
   "outputs": [],
   "source": [
    "# import data, clean, and extract data\n",
    "adni_comp, clin_data, scan_data = wrangle_adni()"
   ]
  },
  {
   "cell_type": "code",
   "execution_count": null,
   "metadata": {},
   "outputs": [],
   "source": []
  },
  {
   "cell_type": "code",
   "execution_count": 68,
   "metadata": {},
   "outputs": [
    {
     "data": {
      "text/plain": [
       "(4672, 30)"
      ]
     },
     "execution_count": 68,
     "metadata": {},
     "output_type": "execute_result"
    }
   ],
   "source": [
    "adni_comp.shape"
   ]
  },
  {
   "cell_type": "code",
   "execution_count": 69,
   "metadata": {},
   "outputs": [
    {
     "name": "stdout",
     "output_type": "stream",
     "text": [
      "<class 'pandas.core.frame.DataFrame'>\n",
      "Int64Index: 4672 entries, 3 to 5292\n",
      "Data columns (total 30 columns):\n",
      "PTGENDER              4672 non-null category\n",
      "DX                    4672 non-null category\n",
      "DX_bl                 4672 non-null category\n",
      "EXAMDATE              4672 non-null datetime64[ns]\n",
      "EXAMDATE_bl           4672 non-null datetime64[ns]\n",
      "PTEDUCAT              4672 non-null int32\n",
      "Month                 4672 non-null int32\n",
      "AGE                   4672 non-null float64\n",
      "CDRSB                 4672 non-null float64\n",
      "CDRSB_bl              4672 non-null float64\n",
      "ADAS11                4672 non-null float64\n",
      "ADAS11_bl             4672 non-null float64\n",
      "ADAS13                4672 non-null float64\n",
      "ADAS13_bl             4672 non-null float64\n",
      "MMSE                  4672 non-null float64\n",
      "MMSE_bl               4672 non-null float64\n",
      "RAVLT_immediate       4672 non-null float64\n",
      "RAVLT_immediate_bl    4672 non-null float64\n",
      "Hippocampus           4672 non-null float64\n",
      "Hippocampus_bl        4672 non-null float64\n",
      "Ventricles            4672 non-null float64\n",
      "Ventricles_bl         4672 non-null float64\n",
      "WholeBrain            4672 non-null float64\n",
      "WholeBrain_bl         4672 non-null float64\n",
      "Entorhinal            4672 non-null float64\n",
      "Entorhinal_bl         4672 non-null float64\n",
      "MidTemp               4672 non-null float64\n",
      "MidTemp_bl            4672 non-null float64\n",
      "AGE_dynamic           4672 non-null float64\n",
      "DX_bl2                4672 non-null object\n",
      "dtypes: category(3), datetime64[ns](2), float64(22), int32(2), object(1)\n",
      "memory usage: 999.6+ KB\n"
     ]
    }
   ],
   "source": [
    "adni_comp.info()"
   ]
  },
  {
   "cell_type": "code",
   "execution_count": 70,
   "metadata": {},
   "outputs": [
    {
     "data": {
      "text/html": [
       "<div>\n",
       "<style scoped>\n",
       "    .dataframe tbody tr th:only-of-type {\n",
       "        vertical-align: middle;\n",
       "    }\n",
       "\n",
       "    .dataframe tbody tr th {\n",
       "        vertical-align: top;\n",
       "    }\n",
       "\n",
       "    .dataframe thead th {\n",
       "        text-align: right;\n",
       "    }\n",
       "</style>\n",
       "<table border=\"1\" class=\"dataframe\">\n",
       "  <thead>\n",
       "    <tr style=\"text-align: right;\">\n",
       "      <th></th>\n",
       "      <th>PTGENDER</th>\n",
       "      <th>DX</th>\n",
       "      <th>DX_bl</th>\n",
       "      <th>EXAMDATE</th>\n",
       "      <th>EXAMDATE_bl</th>\n",
       "      <th>PTEDUCAT</th>\n",
       "      <th>Month</th>\n",
       "      <th>AGE</th>\n",
       "      <th>CDRSB</th>\n",
       "      <th>CDRSB_bl</th>\n",
       "      <th>...</th>\n",
       "      <th>Ventricles</th>\n",
       "      <th>Ventricles_bl</th>\n",
       "      <th>WholeBrain</th>\n",
       "      <th>WholeBrain_bl</th>\n",
       "      <th>Entorhinal</th>\n",
       "      <th>Entorhinal_bl</th>\n",
       "      <th>MidTemp</th>\n",
       "      <th>MidTemp_bl</th>\n",
       "      <th>AGE_dynamic</th>\n",
       "      <th>DX_bl2</th>\n",
       "    </tr>\n",
       "    <tr>\n",
       "      <th>RID</th>\n",
       "      <th></th>\n",
       "      <th></th>\n",
       "      <th></th>\n",
       "      <th></th>\n",
       "      <th></th>\n",
       "      <th></th>\n",
       "      <th></th>\n",
       "      <th></th>\n",
       "      <th></th>\n",
       "      <th></th>\n",
       "      <th></th>\n",
       "      <th></th>\n",
       "      <th></th>\n",
       "      <th></th>\n",
       "      <th></th>\n",
       "      <th></th>\n",
       "      <th></th>\n",
       "      <th></th>\n",
       "      <th></th>\n",
       "      <th></th>\n",
       "      <th></th>\n",
       "    </tr>\n",
       "  </thead>\n",
       "  <tbody>\n",
       "    <tr>\n",
       "      <th>3</th>\n",
       "      <td>Male</td>\n",
       "      <td>AD</td>\n",
       "      <td>AD</td>\n",
       "      <td>2006-09-12</td>\n",
       "      <td>2005-09-12</td>\n",
       "      <td>18</td>\n",
       "      <td>12</td>\n",
       "      <td>81.3</td>\n",
       "      <td>3.5</td>\n",
       "      <td>4.5</td>\n",
       "      <td>...</td>\n",
       "      <td>90099.0</td>\n",
       "      <td>84599.0</td>\n",
       "      <td>1095640.0</td>\n",
       "      <td>1129830.0</td>\n",
       "      <td>1596.0</td>\n",
       "      <td>1791.0</td>\n",
       "      <td>17330.0</td>\n",
       "      <td>18422.0</td>\n",
       "      <td>82.3</td>\n",
       "      <td>AD</td>\n",
       "    </tr>\n",
       "    <tr>\n",
       "      <th>3</th>\n",
       "      <td>Male</td>\n",
       "      <td>AD</td>\n",
       "      <td>AD</td>\n",
       "      <td>2005-09-12</td>\n",
       "      <td>2005-09-12</td>\n",
       "      <td>18</td>\n",
       "      <td>0</td>\n",
       "      <td>81.3</td>\n",
       "      <td>4.5</td>\n",
       "      <td>4.5</td>\n",
       "      <td>...</td>\n",
       "      <td>84599.0</td>\n",
       "      <td>84599.0</td>\n",
       "      <td>1129830.0</td>\n",
       "      <td>1129830.0</td>\n",
       "      <td>1791.0</td>\n",
       "      <td>1791.0</td>\n",
       "      <td>18422.0</td>\n",
       "      <td>18422.0</td>\n",
       "      <td>81.3</td>\n",
       "      <td>AD</td>\n",
       "    </tr>\n",
       "    <tr>\n",
       "      <th>3</th>\n",
       "      <td>Male</td>\n",
       "      <td>AD</td>\n",
       "      <td>AD</td>\n",
       "      <td>2006-03-13</td>\n",
       "      <td>2005-09-12</td>\n",
       "      <td>18</td>\n",
       "      <td>6</td>\n",
       "      <td>81.3</td>\n",
       "      <td>6.0</td>\n",
       "      <td>4.5</td>\n",
       "      <td>...</td>\n",
       "      <td>88580.0</td>\n",
       "      <td>84599.0</td>\n",
       "      <td>1100060.0</td>\n",
       "      <td>1129830.0</td>\n",
       "      <td>2427.0</td>\n",
       "      <td>1791.0</td>\n",
       "      <td>16972.0</td>\n",
       "      <td>18422.0</td>\n",
       "      <td>81.8</td>\n",
       "      <td>AD</td>\n",
       "    </tr>\n",
       "    <tr>\n",
       "      <th>3</th>\n",
       "      <td>Male</td>\n",
       "      <td>AD</td>\n",
       "      <td>AD</td>\n",
       "      <td>2007-09-12</td>\n",
       "      <td>2005-09-12</td>\n",
       "      <td>18</td>\n",
       "      <td>24</td>\n",
       "      <td>81.3</td>\n",
       "      <td>8.0</td>\n",
       "      <td>4.5</td>\n",
       "      <td>...</td>\n",
       "      <td>97420.0</td>\n",
       "      <td>84599.0</td>\n",
       "      <td>1088560.0</td>\n",
       "      <td>1129830.0</td>\n",
       "      <td>1175.0</td>\n",
       "      <td>1791.0</td>\n",
       "      <td>16398.0</td>\n",
       "      <td>18422.0</td>\n",
       "      <td>83.3</td>\n",
       "      <td>AD</td>\n",
       "    </tr>\n",
       "    <tr>\n",
       "      <th>4</th>\n",
       "      <td>Male</td>\n",
       "      <td>MCI</td>\n",
       "      <td>LMCI</td>\n",
       "      <td>2008-11-18</td>\n",
       "      <td>2005-11-08</td>\n",
       "      <td>10</td>\n",
       "      <td>36</td>\n",
       "      <td>67.5</td>\n",
       "      <td>1.0</td>\n",
       "      <td>1.0</td>\n",
       "      <td>...</td>\n",
       "      <td>45254.0</td>\n",
       "      <td>39605.0</td>\n",
       "      <td>1085350.0</td>\n",
       "      <td>1154980.0</td>\n",
       "      <td>3052.0</td>\n",
       "      <td>3983.0</td>\n",
       "      <td>18934.0</td>\n",
       "      <td>19615.0</td>\n",
       "      <td>70.5</td>\n",
       "      <td>MCI</td>\n",
       "    </tr>\n",
       "  </tbody>\n",
       "</table>\n",
       "<p>5 rows × 30 columns</p>\n",
       "</div>"
      ],
      "text/plain": [
       "    PTGENDER   DX DX_bl   EXAMDATE EXAMDATE_bl  PTEDUCAT  Month   AGE  CDRSB  \\\n",
       "RID                                                                            \n",
       "3       Male   AD    AD 2006-09-12  2005-09-12        18     12  81.3    3.5   \n",
       "3       Male   AD    AD 2005-09-12  2005-09-12        18      0  81.3    4.5   \n",
       "3       Male   AD    AD 2006-03-13  2005-09-12        18      6  81.3    6.0   \n",
       "3       Male   AD    AD 2007-09-12  2005-09-12        18     24  81.3    8.0   \n",
       "4       Male  MCI  LMCI 2008-11-18  2005-11-08        10     36  67.5    1.0   \n",
       "\n",
       "     CDRSB_bl  ...  Ventricles  Ventricles_bl  WholeBrain  WholeBrain_bl  \\\n",
       "RID            ...                                                         \n",
       "3         4.5  ...     90099.0        84599.0   1095640.0      1129830.0   \n",
       "3         4.5  ...     84599.0        84599.0   1129830.0      1129830.0   \n",
       "3         4.5  ...     88580.0        84599.0   1100060.0      1129830.0   \n",
       "3         4.5  ...     97420.0        84599.0   1088560.0      1129830.0   \n",
       "4         1.0  ...     45254.0        39605.0   1085350.0      1154980.0   \n",
       "\n",
       "     Entorhinal  Entorhinal_bl  MidTemp  MidTemp_bl  AGE_dynamic  DX_bl2  \n",
       "RID                                                                       \n",
       "3        1596.0         1791.0  17330.0     18422.0         82.3      AD  \n",
       "3        1791.0         1791.0  18422.0     18422.0         81.3      AD  \n",
       "3        2427.0         1791.0  16972.0     18422.0         81.8      AD  \n",
       "3        1175.0         1791.0  16398.0     18422.0         83.3      AD  \n",
       "4        3052.0         3983.0  18934.0     19615.0         70.5     MCI  \n",
       "\n",
       "[5 rows x 30 columns]"
      ]
     },
     "execution_count": 70,
     "metadata": {},
     "output_type": "execute_result"
    }
   ],
   "source": [
    "adni_comp.head()"
   ]
  },
  {
   "cell_type": "code",
   "execution_count": null,
   "metadata": {},
   "outputs": [],
   "source": []
  },
  {
   "cell_type": "code",
   "execution_count": null,
   "metadata": {},
   "outputs": [],
   "source": []
  },
  {
   "cell_type": "code",
   "execution_count": null,
   "metadata": {},
   "outputs": [],
   "source": []
  },
  {
   "cell_type": "markdown",
   "metadata": {},
   "source": [
    "## Questions\n",
    "1. Distribution of different diagnoses for baseline, subsequent exams, and change\n",
    "2. Cognitive tests distributions for baseline, subsequent exams, and change\n",
    "3. Scan data change over time\n",
    "4. Correlations with cognitive tests and brain scans\n",
    "5. Correlations with cognitive tests and diagnoses\n",
    "6. Correlations with brain scans and diagnoses\n",
    "7. Change in biomarkers with change in diagnosis\n",
    "8. Differences by sex/education\n",
    "9. Age as a factor\n",
    "10. Split by diagnosis, sex, education vs. lumping together"
   ]
  },
  {
   "cell_type": "code",
   "execution_count": 71,
   "metadata": {},
   "outputs": [],
   "source": [
    "# subset only the basline data from the complete dataset\n",
    "\n",
    "adni_bl = adni_comp[adni_comp.EXAMDATE == adni_comp.EXAMDATE_bl]\n",
    "clin_bl = clin_data[clin_data.EXAMDATE == clin_data.EXAMDATE_bl]\n",
    "scan_bl = scan_data[scan_data.EXAMDATE == scan_data.EXAMDATE_bl]"
   ]
  },
  {
   "cell_type": "code",
   "execution_count": null,
   "metadata": {},
   "outputs": [],
   "source": []
  },
  {
   "cell_type": "code",
   "execution_count": null,
   "metadata": {},
   "outputs": [],
   "source": []
  },
  {
   "cell_type": "code",
   "execution_count": null,
   "metadata": {},
   "outputs": [],
   "source": []
  },
  {
   "cell_type": "code",
   "execution_count": 72,
   "metadata": {},
   "outputs": [],
   "source": [
    "# distribution of baseline diagnoses for complete clinical data\n",
    "\n",
    "adni_comp_DXbl_counts = adni_bl.groupby('DX_bl')['DX_bl'].count()"
   ]
  },
  {
   "cell_type": "code",
   "execution_count": 73,
   "metadata": {},
   "outputs": [
    {
     "data": {
      "text/plain": [
       "DX_bl\n",
       "CN      329\n",
       "SMC      48\n",
       "EMCI    224\n",
       "LMCI    395\n",
       "AD      174\n",
       "Name: DX_bl, dtype: int64"
      ]
     },
     "execution_count": 73,
     "metadata": {},
     "output_type": "execute_result"
    }
   ],
   "source": [
    "adni_comp_DXbl_counts"
   ]
  },
  {
   "cell_type": "code",
   "execution_count": 74,
   "metadata": {},
   "outputs": [],
   "source": [
    "# combine SMC + CN, combine EMCI + LMCI\n",
    "# subjective memory complaints were categorized as cognitively normal\n",
    "# this was based on literature suggesting SMC is associate with mood vs impairment\n",
    "\n",
    "\n",
    "#CN_bl = adni_comp_DXbl_counts['CN'] + adni_comp_DXbl_counts['SMC']\n",
    "#MCI_bl = adni_comp_DXbl_counts['EMCI'] + adni_comp_DXbl_counts['LMCI']\n",
    "#AD_bl = adni_comp_DXbl_counts['AD']\n",
    "DX_bl = adni_comp.groupby('RID')['DX_bl'].min()\n",
    "DX_bl_counts = DX_bl.value_counts()"
   ]
  },
  {
   "cell_type": "code",
   "execution_count": 75,
   "metadata": {},
   "outputs": [
    {
     "data": {
      "text/plain": [
       "LMCI    395\n",
       "CN      329\n",
       "EMCI    224\n",
       "AD      174\n",
       "SMC      48\n",
       "Name: DX_bl, dtype: int64"
      ]
     },
     "execution_count": 75,
     "metadata": {},
     "output_type": "execute_result"
    }
   ],
   "source": [
    "DX_bl_counts"
   ]
  },
  {
   "cell_type": "code",
   "execution_count": 76,
   "metadata": {},
   "outputs": [
    {
     "data": {
      "text/plain": [
       "Text(0.5, 1.0, 'Baseline Diagnosis')"
      ]
     },
     "execution_count": 76,
     "metadata": {},
     "output_type": "execute_result"
    },
    {
     "data": {
      "image/png": "[encoded data removed]",
      "text/plain": [
       "<Figure size 432x288 with 1 Axes>"
      ]
     },
     "metadata": {},
     "output_type": "display_data"
    }
   ],
   "source": [
    "sns.barplot(x=DX_bl_counts.index, y=DX_bl_counts.values)\n",
    "plt.xlabel('Diagnosis')\n",
    "plt.ylabel('Number of Patients')\n",
    "plt.title('Baseline Diagnosis')"
   ]
  },
  {
   "cell_type": "code",
   "execution_count": 77,
   "metadata": {},
   "outputs": [],
   "source": [
    "# filter the most advanced diagnosis for each patient\n",
    "\n",
    "dx_final = adni_comp.groupby('RID')['DX'].max()"
   ]
  },
  {
   "cell_type": "code",
   "execution_count": null,
   "metadata": {},
   "outputs": [],
   "source": []
  },
  {
   "cell_type": "code",
   "execution_count": 78,
   "metadata": {},
   "outputs": [],
   "source": [
    "dx_counts = dx_final.value_counts()"
   ]
  },
  {
   "cell_type": "code",
   "execution_count": 79,
   "metadata": {},
   "outputs": [
    {
     "data": {
      "text/plain": [
       "MCI    479\n",
       "AD     357\n",
       "CN     334\n",
       "Name: DX, dtype: int64"
      ]
     },
     "execution_count": 79,
     "metadata": {},
     "output_type": "execute_result"
    }
   ],
   "source": [
    "dx_counts"
   ]
  },
  {
   "cell_type": "code",
   "execution_count": 80,
   "metadata": {},
   "outputs": [
    {
     "data": {
      "text/plain": [
       "Text(0.5, 1.0, 'Final Diagnosis')"
      ]
     },
     "execution_count": 80,
     "metadata": {},
     "output_type": "execute_result"
    },
    {
     "data": {
      "image/png": "[encoded data removed]",
      "text/plain": [
       "<Figure size 432x288 with 1 Axes>"
      ]
     },
     "metadata": {},
     "output_type": "display_data"
    }
   ],
   "source": [
    "sns.barplot(x=dx_counts.index, y=dx_counts.values)\n",
    "plt.xlabel('Diagnosis')\n",
    "plt.ylabel('Number of Patients')\n",
    "plt.title('Final Diagnosis')"
   ]
  },
  {
   "cell_type": "code",
   "execution_count": 81,
   "metadata": {},
   "outputs": [],
   "source": [
    "DX_bl2 = adni_comp.groupby('RID')['DX_bl2'].min()\n",
    "DX_bl2_counts = DX_bl2.value_counts()"
   ]
  },
  {
   "cell_type": "code",
   "execution_count": 82,
   "metadata": {},
   "outputs": [
    {
     "data": {
      "text/plain": [
       "MCI    619\n",
       "CN     377\n",
       "AD     174\n",
       "Name: DX_bl2, dtype: int64"
      ]
     },
     "execution_count": 82,
     "metadata": {},
     "output_type": "execute_result"
    }
   ],
   "source": [
    "DX_bl2_counts"
   ]
  },
  {
   "cell_type": "code",
   "execution_count": 83,
   "metadata": {},
   "outputs": [],
   "source": [
    "# join baseline and final diagnosis data for comparison\n",
    "\n",
    "counts = [DX_bl2_counts[1], DX_bl2_counts[0], DX_bl2_counts[2], dx_counts[2], dx_counts[1], dx_counts[0]]\n",
    "\n",
    "\n",
    "dx_comp = {'visit': ['Baseline', 'Baseline', 'Baseline', 'Final', 'Final', 'Final'], \n",
    "           'diagnosis': ['CN', 'MCI', 'AD', 'CN', 'MCI', 'AD'],\n",
    "          'counts': counts}"
   ]
  },
  {
   "cell_type": "code",
   "execution_count": 84,
   "metadata": {},
   "outputs": [
    {
     "data": {
      "text/plain": [
       "{'visit': ['Baseline', 'Baseline', 'Baseline', 'Final', 'Final', 'Final'],\n",
       " 'diagnosis': ['CN', 'MCI', 'AD', 'CN', 'MCI', 'AD'],\n",
       " 'counts': [377, 619, 174, 334, 357, 479]}"
      ]
     },
     "execution_count": 84,
     "metadata": {},
     "output_type": "execute_result"
    }
   ],
   "source": [
    "dx_comp"
   ]
  },
  {
   "cell_type": "code",
   "execution_count": 85,
   "metadata": {},
   "outputs": [],
   "source": [
    "diag = pd.DataFrame(dx_comp)"
   ]
  },
  {
   "cell_type": "code",
   "execution_count": 86,
   "metadata": {},
   "outputs": [
    {
     "data": {
      "text/html": [
       "<div>\n",
       "<style scoped>\n",
       "    .dataframe tbody tr th:only-of-type {\n",
       "        vertical-align: middle;\n",
       "    }\n",
       "\n",
       "    .dataframe tbody tr th {\n",
       "        vertical-align: top;\n",
       "    }\n",
       "\n",
       "    .dataframe thead th {\n",
       "        text-align: right;\n",
       "    }\n",
       "</style>\n",
       "<table border=\"1\" class=\"dataframe\">\n",
       "  <thead>\n",
       "    <tr style=\"text-align: right;\">\n",
       "      <th></th>\n",
       "      <th>visit</th>\n",
       "      <th>diagnosis</th>\n",
       "      <th>counts</th>\n",
       "    </tr>\n",
       "  </thead>\n",
       "  <tbody>\n",
       "    <tr>\n",
       "      <th>0</th>\n",
       "      <td>Baseline</td>\n",
       "      <td>CN</td>\n",
       "      <td>377</td>\n",
       "    </tr>\n",
       "    <tr>\n",
       "      <th>1</th>\n",
       "      <td>Baseline</td>\n",
       "      <td>MCI</td>\n",
       "      <td>619</td>\n",
       "    </tr>\n",
       "    <tr>\n",
       "      <th>2</th>\n",
       "      <td>Baseline</td>\n",
       "      <td>AD</td>\n",
       "      <td>174</td>\n",
       "    </tr>\n",
       "    <tr>\n",
       "      <th>3</th>\n",
       "      <td>Final</td>\n",
       "      <td>CN</td>\n",
       "      <td>334</td>\n",
       "    </tr>\n",
       "    <tr>\n",
       "      <th>4</th>\n",
       "      <td>Final</td>\n",
       "      <td>MCI</td>\n",
       "      <td>357</td>\n",
       "    </tr>\n",
       "    <tr>\n",
       "      <th>5</th>\n",
       "      <td>Final</td>\n",
       "      <td>AD</td>\n",
       "      <td>479</td>\n",
       "    </tr>\n",
       "  </tbody>\n",
       "</table>\n",
       "</div>"
      ],
      "text/plain": [
       "      visit diagnosis  counts\n",
       "0  Baseline        CN     377\n",
       "1  Baseline       MCI     619\n",
       "2  Baseline        AD     174\n",
       "3     Final        CN     334\n",
       "4     Final       MCI     357\n",
       "5     Final        AD     479"
      ]
     },
     "execution_count": 86,
     "metadata": {},
     "output_type": "execute_result"
    }
   ],
   "source": [
    "diag"
   ]
  },
  {
   "cell_type": "code",
   "execution_count": 87,
   "metadata": {},
   "outputs": [
    {
     "data": {
      "text/plain": [
       "<matplotlib.legend.Legend at 0x164ae8a7e10>"
      ]
     },
     "execution_count": 87,
     "metadata": {},
     "output_type": "execute_result"
    },
    {
     "data": {
      "image/png": "[encoded data removed]",
      "text/plain": [
       "<Figure size 432x288 with 1 Axes>"
      ]
     },
     "metadata": {},
     "output_type": "display_data"
    }
   ],
   "source": [
    "sns.barplot(x='diagnosis', y='counts', hue='visit', data=diag)\n",
    "plt.xlabel('Diagnosis')\n",
    "plt.ylabel('Number of Patients')\n",
    "plt.title('Diagnosis Counts: Baseline vs. Final')\n",
    "plt.legend(loc='upper left')"
   ]
  },
  {
   "cell_type": "code",
   "execution_count": 88,
   "metadata": {},
   "outputs": [],
   "source": [
    "# diagnosis change\n",
    "bl = diag[diag['visit'] == 'Baseline']\n",
    "final = diag[diag['visit'] == 'Final']"
   ]
  },
  {
   "cell_type": "code",
   "execution_count": 89,
   "metadata": {},
   "outputs": [],
   "source": [
    "change = final['counts'].values - bl['counts'].values "
   ]
  },
  {
   "cell_type": "code",
   "execution_count": 90,
   "metadata": {},
   "outputs": [
    {
     "data": {
      "text/plain": [
       "Text(0.5, 1.0, 'Change in Diagnosis Counts: Baseline to Final')"
      ]
     },
     "execution_count": 90,
     "metadata": {},
     "output_type": "execute_result"
    },
    {
     "data": {
      "image/png": "[encoded data removed]",
      "text/plain": [
       "<Figure size 432x288 with 1 Axes>"
      ]
     },
     "metadata": {},
     "output_type": "display_data"
    }
   ],
   "source": [
    "sns.barplot(x=['CN', 'MCI', 'AD'], y=change)\n",
    "plt.xlabel('Diagnosis')\n",
    "plt.ylabel('Change in Diagnosis')\n",
    "plt.title('Change in Diagnosis Counts: Baseline to Final')"
   ]
  },
  {
   "cell_type": "code",
   "execution_count": null,
   "metadata": {},
   "outputs": [],
   "source": []
  },
  {
   "cell_type": "code",
   "execution_count": 91,
   "metadata": {},
   "outputs": [
    {
     "data": {
      "text/html": [
       "<div>\n",
       "<style scoped>\n",
       "    .dataframe tbody tr th:only-of-type {\n",
       "        vertical-align: middle;\n",
       "    }\n",
       "\n",
       "    .dataframe tbody tr th {\n",
       "        vertical-align: top;\n",
       "    }\n",
       "\n",
       "    .dataframe thead th {\n",
       "        text-align: right;\n",
       "    }\n",
       "</style>\n",
       "<table border=\"1\" class=\"dataframe\">\n",
       "  <thead>\n",
       "    <tr style=\"text-align: right;\">\n",
       "      <th></th>\n",
       "      <th>PTGENDER</th>\n",
       "      <th>DX</th>\n",
       "      <th>DX_bl</th>\n",
       "      <th>EXAMDATE</th>\n",
       "      <th>EXAMDATE_bl</th>\n",
       "      <th>PTEDUCAT</th>\n",
       "      <th>Month</th>\n",
       "      <th>AGE</th>\n",
       "      <th>CDRSB</th>\n",
       "      <th>CDRSB_bl</th>\n",
       "      <th>...</th>\n",
       "      <th>Ventricles</th>\n",
       "      <th>Ventricles_bl</th>\n",
       "      <th>WholeBrain</th>\n",
       "      <th>WholeBrain_bl</th>\n",
       "      <th>Entorhinal</th>\n",
       "      <th>Entorhinal_bl</th>\n",
       "      <th>MidTemp</th>\n",
       "      <th>MidTemp_bl</th>\n",
       "      <th>AGE_dynamic</th>\n",
       "      <th>DX_bl2</th>\n",
       "    </tr>\n",
       "    <tr>\n",
       "      <th>RID</th>\n",
       "      <th></th>\n",
       "      <th></th>\n",
       "      <th></th>\n",
       "      <th></th>\n",
       "      <th></th>\n",
       "      <th></th>\n",
       "      <th></th>\n",
       "      <th></th>\n",
       "      <th></th>\n",
       "      <th></th>\n",
       "      <th></th>\n",
       "      <th></th>\n",
       "      <th></th>\n",
       "      <th></th>\n",
       "      <th></th>\n",
       "      <th></th>\n",
       "      <th></th>\n",
       "      <th></th>\n",
       "      <th></th>\n",
       "      <th></th>\n",
       "      <th></th>\n",
       "    </tr>\n",
       "  </thead>\n",
       "  <tbody>\n",
       "    <tr>\n",
       "      <th>3</th>\n",
       "      <td>Male</td>\n",
       "      <td>AD</td>\n",
       "      <td>AD</td>\n",
       "      <td>2006-09-12</td>\n",
       "      <td>2005-09-12</td>\n",
       "      <td>18</td>\n",
       "      <td>12</td>\n",
       "      <td>81.3</td>\n",
       "      <td>3.5</td>\n",
       "      <td>4.5</td>\n",
       "      <td>...</td>\n",
       "      <td>90099.0</td>\n",
       "      <td>84599.0</td>\n",
       "      <td>1095640.0</td>\n",
       "      <td>1129830.0</td>\n",
       "      <td>1596.0</td>\n",
       "      <td>1791.0</td>\n",
       "      <td>17330.0</td>\n",
       "      <td>18422.0</td>\n",
       "      <td>82.3</td>\n",
       "      <td>AD</td>\n",
       "    </tr>\n",
       "    <tr>\n",
       "      <th>3</th>\n",
       "      <td>Male</td>\n",
       "      <td>AD</td>\n",
       "      <td>AD</td>\n",
       "      <td>2005-09-12</td>\n",
       "      <td>2005-09-12</td>\n",
       "      <td>18</td>\n",
       "      <td>0</td>\n",
       "      <td>81.3</td>\n",
       "      <td>4.5</td>\n",
       "      <td>4.5</td>\n",
       "      <td>...</td>\n",
       "      <td>84599.0</td>\n",
       "      <td>84599.0</td>\n",
       "      <td>1129830.0</td>\n",
       "      <td>1129830.0</td>\n",
       "      <td>1791.0</td>\n",
       "      <td>1791.0</td>\n",
       "      <td>18422.0</td>\n",
       "      <td>18422.0</td>\n",
       "      <td>81.3</td>\n",
       "      <td>AD</td>\n",
       "    </tr>\n",
       "    <tr>\n",
       "      <th>3</th>\n",
       "      <td>Male</td>\n",
       "      <td>AD</td>\n",
       "      <td>AD</td>\n",
       "      <td>2006-03-13</td>\n",
       "      <td>2005-09-12</td>\n",
       "      <td>18</td>\n",
       "      <td>6</td>\n",
       "      <td>81.3</td>\n",
       "      <td>6.0</td>\n",
       "      <td>4.5</td>\n",
       "      <td>...</td>\n",
       "      <td>88580.0</td>\n",
       "      <td>84599.0</td>\n",
       "      <td>1100060.0</td>\n",
       "      <td>1129830.0</td>\n",
       "      <td>2427.0</td>\n",
       "      <td>1791.0</td>\n",
       "      <td>16972.0</td>\n",
       "      <td>18422.0</td>\n",
       "      <td>81.8</td>\n",
       "      <td>AD</td>\n",
       "    </tr>\n",
       "    <tr>\n",
       "      <th>3</th>\n",
       "      <td>Male</td>\n",
       "      <td>AD</td>\n",
       "      <td>AD</td>\n",
       "      <td>2007-09-12</td>\n",
       "      <td>2005-09-12</td>\n",
       "      <td>18</td>\n",
       "      <td>24</td>\n",
       "      <td>81.3</td>\n",
       "      <td>8.0</td>\n",
       "      <td>4.5</td>\n",
       "      <td>...</td>\n",
       "      <td>97420.0</td>\n",
       "      <td>84599.0</td>\n",
       "      <td>1088560.0</td>\n",
       "      <td>1129830.0</td>\n",
       "      <td>1175.0</td>\n",
       "      <td>1791.0</td>\n",
       "      <td>16398.0</td>\n",
       "      <td>18422.0</td>\n",
       "      <td>83.3</td>\n",
       "      <td>AD</td>\n",
       "    </tr>\n",
       "    <tr>\n",
       "      <th>4</th>\n",
       "      <td>Male</td>\n",
       "      <td>MCI</td>\n",
       "      <td>LMCI</td>\n",
       "      <td>2008-11-18</td>\n",
       "      <td>2005-11-08</td>\n",
       "      <td>10</td>\n",
       "      <td>36</td>\n",
       "      <td>67.5</td>\n",
       "      <td>1.0</td>\n",
       "      <td>1.0</td>\n",
       "      <td>...</td>\n",
       "      <td>45254.0</td>\n",
       "      <td>39605.0</td>\n",
       "      <td>1085350.0</td>\n",
       "      <td>1154980.0</td>\n",
       "      <td>3052.0</td>\n",
       "      <td>3983.0</td>\n",
       "      <td>18934.0</td>\n",
       "      <td>19615.0</td>\n",
       "      <td>70.5</td>\n",
       "      <td>MCI</td>\n",
       "    </tr>\n",
       "  </tbody>\n",
       "</table>\n",
       "<p>5 rows × 30 columns</p>\n",
       "</div>"
      ],
      "text/plain": [
       "    PTGENDER   DX DX_bl   EXAMDATE EXAMDATE_bl  PTEDUCAT  Month   AGE  CDRSB  \\\n",
       "RID                                                                            \n",
       "3       Male   AD    AD 2006-09-12  2005-09-12        18     12  81.3    3.5   \n",
       "3       Male   AD    AD 2005-09-12  2005-09-12        18      0  81.3    4.5   \n",
       "3       Male   AD    AD 2006-03-13  2005-09-12        18      6  81.3    6.0   \n",
       "3       Male   AD    AD 2007-09-12  2005-09-12        18     24  81.3    8.0   \n",
       "4       Male  MCI  LMCI 2008-11-18  2005-11-08        10     36  67.5    1.0   \n",
       "\n",
       "     CDRSB_bl  ...  Ventricles  Ventricles_bl  WholeBrain  WholeBrain_bl  \\\n",
       "RID            ...                                                         \n",
       "3         4.5  ...     90099.0        84599.0   1095640.0      1129830.0   \n",
       "3         4.5  ...     84599.0        84599.0   1129830.0      1129830.0   \n",
       "3         4.5  ...     88580.0        84599.0   1100060.0      1129830.0   \n",
       "3         4.5  ...     97420.0        84599.0   1088560.0      1129830.0   \n",
       "4         1.0  ...     45254.0        39605.0   1085350.0      1154980.0   \n",
       "\n",
       "     Entorhinal  Entorhinal_bl  MidTemp  MidTemp_bl  AGE_dynamic  DX_bl2  \n",
       "RID                                                                       \n",
       "3        1596.0         1791.0  17330.0     18422.0         82.3      AD  \n",
       "3        1791.0         1791.0  18422.0     18422.0         81.3      AD  \n",
       "3        2427.0         1791.0  16972.0     18422.0         81.8      AD  \n",
       "3        1175.0         1791.0  16398.0     18422.0         83.3      AD  \n",
       "4        3052.0         3983.0  18934.0     19615.0         70.5     MCI  \n",
       "\n",
       "[5 rows x 30 columns]"
      ]
     },
     "execution_count": 91,
     "metadata": {},
     "output_type": "execute_result"
    }
   ],
   "source": [
    "adni_comp.head()"
   ]
  },
  {
   "cell_type": "code",
   "execution_count": 92,
   "metadata": {},
   "outputs": [],
   "source": [
    "# get last visit info\n",
    "\n",
    "adni_comp.reset_index(inplace=True)"
   ]
  },
  {
   "cell_type": "code",
   "execution_count": 93,
   "metadata": {},
   "outputs": [],
   "source": [
    "adni_comp.set_index([adni_comp.RID, adni_comp.EXAMDATE], inplace=True)"
   ]
  },
  {
   "cell_type": "code",
   "execution_count": 94,
   "metadata": {},
   "outputs": [],
   "source": [
    "RID_list = adni_comp.RID.unique()"
   ]
  },
  {
   "cell_type": "code",
   "execution_count": 95,
   "metadata": {},
   "outputs": [
    {
     "data": {
      "text/plain": [
       "array([   3,    4,    5, ..., 5289, 5290, 5292], dtype=int64)"
      ]
     },
     "execution_count": 95,
     "metadata": {},
     "output_type": "execute_result"
    }
   ],
   "source": [
    "RID_list"
   ]
  },
  {
   "cell_type": "code",
   "execution_count": 96,
   "metadata": {},
   "outputs": [],
   "source": [
    "adni_comp.drop('RID', axis='columns', inplace=True)"
   ]
  },
  {
   "cell_type": "code",
   "execution_count": null,
   "metadata": {},
   "outputs": [],
   "source": []
  },
  {
   "cell_type": "code",
   "execution_count": 97,
   "metadata": {},
   "outputs": [],
   "source": [
    "last_exam = adni_comp.groupby('RID')['EXAMDATE'].max()"
   ]
  },
  {
   "cell_type": "code",
   "execution_count": null,
   "metadata": {},
   "outputs": [],
   "source": []
  },
  {
   "cell_type": "code",
   "execution_count": 98,
   "metadata": {},
   "outputs": [
    {
     "data": {
      "text/plain": [
       "Timestamp('2007-09-12 00:00:00')"
      ]
     },
     "execution_count": 98,
     "metadata": {},
     "output_type": "execute_result"
    }
   ],
   "source": [
    "last_exam[3]"
   ]
  },
  {
   "cell_type": "code",
   "execution_count": 99,
   "metadata": {},
   "outputs": [],
   "source": [
    "data_dict = {}"
   ]
  },
  {
   "cell_type": "code",
   "execution_count": 100,
   "metadata": {},
   "outputs": [],
   "source": [
    "adni_comp.shape[0]\n",
    "\n",
    "for i in range(len(RID_list)):\n",
    "    #list_data.append(adni_comp.loc[(RID_list[i], str(last_exam[RID_list[i]]))])\n",
    "    data_dict[RID_list[i]] = adni_comp.loc[(RID_list[i], str(last_exam[RID_list[i]]))]"
   ]
  },
  {
   "cell_type": "code",
   "execution_count": 101,
   "metadata": {},
   "outputs": [],
   "source": [
    "final_exam = pd.DataFrame(data_dict)"
   ]
  },
  {
   "cell_type": "code",
   "execution_count": 102,
   "metadata": {},
   "outputs": [],
   "source": [
    "final_exam = final_exam.transpose()"
   ]
  },
  {
   "cell_type": "code",
   "execution_count": 103,
   "metadata": {},
   "outputs": [
    {
     "data": {
      "text/html": [
       "<div>\n",
       "<style scoped>\n",
       "    .dataframe tbody tr th:only-of-type {\n",
       "        vertical-align: middle;\n",
       "    }\n",
       "\n",
       "    .dataframe tbody tr th {\n",
       "        vertical-align: top;\n",
       "    }\n",
       "\n",
       "    .dataframe thead th {\n",
       "        text-align: right;\n",
       "    }\n",
       "</style>\n",
       "<table border=\"1\" class=\"dataframe\">\n",
       "  <thead>\n",
       "    <tr style=\"text-align: right;\">\n",
       "      <th></th>\n",
       "      <th>PTGENDER</th>\n",
       "      <th>DX</th>\n",
       "      <th>DX_bl</th>\n",
       "      <th>EXAMDATE</th>\n",
       "      <th>EXAMDATE_bl</th>\n",
       "      <th>PTEDUCAT</th>\n",
       "      <th>Month</th>\n",
       "      <th>AGE</th>\n",
       "      <th>CDRSB</th>\n",
       "      <th>CDRSB_bl</th>\n",
       "      <th>...</th>\n",
       "      <th>Ventricles</th>\n",
       "      <th>Ventricles_bl</th>\n",
       "      <th>WholeBrain</th>\n",
       "      <th>WholeBrain_bl</th>\n",
       "      <th>Entorhinal</th>\n",
       "      <th>Entorhinal_bl</th>\n",
       "      <th>MidTemp</th>\n",
       "      <th>MidTemp_bl</th>\n",
       "      <th>AGE_dynamic</th>\n",
       "      <th>DX_bl2</th>\n",
       "    </tr>\n",
       "  </thead>\n",
       "  <tbody>\n",
       "    <tr>\n",
       "      <th>3</th>\n",
       "      <td>Male</td>\n",
       "      <td>AD</td>\n",
       "      <td>AD</td>\n",
       "      <td>2007-09-12 00:00:00</td>\n",
       "      <td>2005-09-12 00:00:00</td>\n",
       "      <td>18</td>\n",
       "      <td>24</td>\n",
       "      <td>81.3</td>\n",
       "      <td>8</td>\n",
       "      <td>4.5</td>\n",
       "      <td>...</td>\n",
       "      <td>97420</td>\n",
       "      <td>84599</td>\n",
       "      <td>1.08856e+06</td>\n",
       "      <td>1.12983e+06</td>\n",
       "      <td>1175</td>\n",
       "      <td>1791</td>\n",
       "      <td>16398</td>\n",
       "      <td>18422</td>\n",
       "      <td>83.3</td>\n",
       "      <td>AD</td>\n",
       "    </tr>\n",
       "    <tr>\n",
       "      <th>4</th>\n",
       "      <td>Male</td>\n",
       "      <td>MCI</td>\n",
       "      <td>LMCI</td>\n",
       "      <td>2008-11-18 00:00:00</td>\n",
       "      <td>2005-11-08 00:00:00</td>\n",
       "      <td>10</td>\n",
       "      <td>36</td>\n",
       "      <td>67.5</td>\n",
       "      <td>1</td>\n",
       "      <td>1</td>\n",
       "      <td>...</td>\n",
       "      <td>45254</td>\n",
       "      <td>39605</td>\n",
       "      <td>1.08535e+06</td>\n",
       "      <td>1.15498e+06</td>\n",
       "      <td>3052</td>\n",
       "      <td>3983</td>\n",
       "      <td>18934</td>\n",
       "      <td>19615</td>\n",
       "      <td>70.5</td>\n",
       "      <td>MCI</td>\n",
       "    </tr>\n",
       "    <tr>\n",
       "      <th>5</th>\n",
       "      <td>Male</td>\n",
       "      <td>CN</td>\n",
       "      <td>CN</td>\n",
       "      <td>2008-09-10 00:00:00</td>\n",
       "      <td>2005-09-07 00:00:00</td>\n",
       "      <td>16</td>\n",
       "      <td>36</td>\n",
       "      <td>73.7</td>\n",
       "      <td>1</td>\n",
       "      <td>0</td>\n",
       "      <td>...</td>\n",
       "      <td>41656</td>\n",
       "      <td>34062</td>\n",
       "      <td>1.08049e+06</td>\n",
       "      <td>1.11663e+06</td>\n",
       "      <td>3605</td>\n",
       "      <td>4433</td>\n",
       "      <td>20398</td>\n",
       "      <td>21614</td>\n",
       "      <td>76.7</td>\n",
       "      <td>CN</td>\n",
       "    </tr>\n",
       "    <tr>\n",
       "      <th>6</th>\n",
       "      <td>Female</td>\n",
       "      <td>MCI</td>\n",
       "      <td>LMCI</td>\n",
       "      <td>2008-12-08 00:00:00</td>\n",
       "      <td>2005-11-29 00:00:00</td>\n",
       "      <td>13</td>\n",
       "      <td>36</td>\n",
       "      <td>80.4</td>\n",
       "      <td>2</td>\n",
       "      <td>0.5</td>\n",
       "      <td>...</td>\n",
       "      <td>46549</td>\n",
       "      <td>39826</td>\n",
       "      <td>924403</td>\n",
       "      <td>927510</td>\n",
       "      <td>2309</td>\n",
       "      <td>2277</td>\n",
       "      <td>17356</td>\n",
       "      <td>17802</td>\n",
       "      <td>83.4</td>\n",
       "      <td>MCI</td>\n",
       "    </tr>\n",
       "    <tr>\n",
       "      <th>7</th>\n",
       "      <td>Male</td>\n",
       "      <td>AD</td>\n",
       "      <td>AD</td>\n",
       "      <td>2006-04-13 00:00:00</td>\n",
       "      <td>2005-10-06 00:00:00</td>\n",
       "      <td>10</td>\n",
       "      <td>6</td>\n",
       "      <td>75.4</td>\n",
       "      <td>6</td>\n",
       "      <td>6</td>\n",
       "      <td>...</td>\n",
       "      <td>26810</td>\n",
       "      <td>25704</td>\n",
       "      <td>858947</td>\n",
       "      <td>875798</td>\n",
       "      <td>2294</td>\n",
       "      <td>2050</td>\n",
       "      <td>14459</td>\n",
       "      <td>15374</td>\n",
       "      <td>75.9</td>\n",
       "      <td>AD</td>\n",
       "    </tr>\n",
       "  </tbody>\n",
       "</table>\n",
       "<p>5 rows × 30 columns</p>\n",
       "</div>"
      ],
      "text/plain": [
       "  PTGENDER   DX DX_bl             EXAMDATE          EXAMDATE_bl PTEDUCAT  \\\n",
       "3     Male   AD    AD  2007-09-12 00:00:00  2005-09-12 00:00:00       18   \n",
       "4     Male  MCI  LMCI  2008-11-18 00:00:00  2005-11-08 00:00:00       10   \n",
       "5     Male   CN    CN  2008-09-10 00:00:00  2005-09-07 00:00:00       16   \n",
       "6   Female  MCI  LMCI  2008-12-08 00:00:00  2005-11-29 00:00:00       13   \n",
       "7     Male   AD    AD  2006-04-13 00:00:00  2005-10-06 00:00:00       10   \n",
       "\n",
       "  Month   AGE CDRSB CDRSB_bl  ... Ventricles Ventricles_bl   WholeBrain  \\\n",
       "3    24  81.3     8      4.5  ...      97420         84599  1.08856e+06   \n",
       "4    36  67.5     1        1  ...      45254         39605  1.08535e+06   \n",
       "5    36  73.7     1        0  ...      41656         34062  1.08049e+06   \n",
       "6    36  80.4     2      0.5  ...      46549         39826       924403   \n",
       "7     6  75.4     6        6  ...      26810         25704       858947   \n",
       "\n",
       "  WholeBrain_bl Entorhinal Entorhinal_bl MidTemp MidTemp_bl AGE_dynamic DX_bl2  \n",
       "3   1.12983e+06       1175          1791   16398      18422        83.3     AD  \n",
       "4   1.15498e+06       3052          3983   18934      19615        70.5    MCI  \n",
       "5   1.11663e+06       3605          4433   20398      21614        76.7     CN  \n",
       "6        927510       2309          2277   17356      17802        83.4    MCI  \n",
       "7        875798       2294          2050   14459      15374        75.9     AD  \n",
       "\n",
       "[5 rows x 30 columns]"
      ]
     },
     "execution_count": 103,
     "metadata": {},
     "output_type": "execute_result"
    }
   ],
   "source": [
    "final_exam.head()"
   ]
  },
  {
   "cell_type": "code",
   "execution_count": 104,
   "metadata": {},
   "outputs": [
    {
     "data": {
      "text/plain": [
       "(1170, 30)"
      ]
     },
     "execution_count": 104,
     "metadata": {},
     "output_type": "execute_result"
    }
   ],
   "source": [
    "final_exam.shape"
   ]
  },
  {
   "cell_type": "code",
   "execution_count": 105,
   "metadata": {},
   "outputs": [],
   "source": [
    "# compare initial diagnosis with final diagnosis\n",
    "\n",
    "cn_cn = final_exam[(final_exam.DX == 'CN') & (final_exam.DX_bl2 == 'CN')]\n",
    "cn_mci = final_exam[(final_exam.DX == 'MCI') & (final_exam.DX_bl2 == 'CN')]\n",
    "cn_ad = final_exam[(final_exam.DX == 'AD') & (final_exam.DX_bl2 == 'CN')]\n",
    "mci_cn = final_exam[(final_exam.DX == 'CN') & (final_exam.DX_bl2 == 'MCI')]\n",
    "mci_mci = final_exam[(final_exam.DX == 'MCI') & (final_exam.DX_bl2 == 'MCI')]\n",
    "mci_ad = final_exam[(final_exam.DX == 'AD') & (final_exam.DX_bl2 == 'MCI')]\n",
    "ad_cn = final_exam[(final_exam.DX == 'CN') & (final_exam.DX_bl2 == 'AD')]\n",
    "ad_mci = final_exam[(final_exam.DX == 'MCI') & (final_exam.DX_bl2 == 'AD')]\n",
    "ad_ad = final_exam[(final_exam.DX == 'AD') & (final_exam.DX_bl2 == 'AD')]"
   ]
  },
  {
   "cell_type": "code",
   "execution_count": 106,
   "metadata": {},
   "outputs": [],
   "source": [
    "# create a dictionary and convert to a dataframe\n",
    "\n",
    "diag_dict = {'CN': [cn_cn.shape[0], cn_mci.shape[0], cn_ad.shape[0]], \n",
    "             'MCI': [mci_cn.shape[0], mci_mci.shape[0], mci_ad.shape[0]],\n",
    "             'AD': [ad_cn.shape[0], ad_mci.shape[0], ad_ad.shape[0]]}\n",
    "\n",
    "diag_df = pd.DataFrame(diag_dict)"
   ]
  },
  {
   "cell_type": "code",
   "execution_count": 107,
   "metadata": {},
   "outputs": [
    {
     "data": {
      "text/html": [
       "<div>\n",
       "<style scoped>\n",
       "    .dataframe tbody tr th:only-of-type {\n",
       "        vertical-align: middle;\n",
       "    }\n",
       "\n",
       "    .dataframe tbody tr th {\n",
       "        vertical-align: top;\n",
       "    }\n",
       "\n",
       "    .dataframe thead th {\n",
       "        text-align: right;\n",
       "    }\n",
       "</style>\n",
       "<table border=\"1\" class=\"dataframe\">\n",
       "  <thead>\n",
       "    <tr style=\"text-align: right;\">\n",
       "      <th></th>\n",
       "      <th>CN</th>\n",
       "      <th>MCI</th>\n",
       "      <th>AD</th>\n",
       "    </tr>\n",
       "  </thead>\n",
       "  <tbody>\n",
       "    <tr>\n",
       "      <th>0</th>\n",
       "      <td>335</td>\n",
       "      <td>34</td>\n",
       "      <td>0</td>\n",
       "    </tr>\n",
       "    <tr>\n",
       "      <th>1</th>\n",
       "      <td>37</td>\n",
       "      <td>409</td>\n",
       "      <td>2</td>\n",
       "    </tr>\n",
       "    <tr>\n",
       "      <th>2</th>\n",
       "      <td>5</td>\n",
       "      <td>176</td>\n",
       "      <td>172</td>\n",
       "    </tr>\n",
       "  </tbody>\n",
       "</table>\n",
       "</div>"
      ],
      "text/plain": [
       "    CN  MCI   AD\n",
       "0  335   34    0\n",
       "1   37  409    2\n",
       "2    5  176  172"
      ]
     },
     "execution_count": 107,
     "metadata": {},
     "output_type": "execute_result"
    }
   ],
   "source": [
    "diag_df"
   ]
  },
  {
   "cell_type": "code",
   "execution_count": 108,
   "metadata": {},
   "outputs": [],
   "source": [
    "# extract the bar heights\n",
    "\n",
    "ad_final = [diag_df.loc[:,'CN'].sum(), diag_df.loc[:,'MCI'].sum(), diag_df.loc[:,'AD'].sum()]\n",
    "mci_final = [diag_df.loc[0:1, 'CN'].sum(), diag_df.loc[0:1, 'MCI'].sum(), diag_df.loc[0:1, 'AD'].sum()]\n",
    "cn_final = [diag_df.loc[0, 'CN'], diag_df.loc[0, 'MCI'], diag_df.loc[0, 'AD']]"
   ]
  },
  {
   "cell_type": "code",
   "execution_count": 109,
   "metadata": {},
   "outputs": [
    {
     "data": {
      "text/plain": [
       "<matplotlib.legend.Legend at 0x164ad41b128>"
      ]
     },
     "execution_count": 109,
     "metadata": {},
     "output_type": "execute_result"
    },
    {
     "data": {
      "image/png": "[encoded data removed]",
      "text/plain": [
       "<Figure size 432x288 with 1 Axes>"
      ]
     },
     "metadata": {},
     "output_type": "display_data"
    }
   ],
   "source": [
    "# contruct the plot\n",
    "\n",
    "sns.barplot(x=['CN', 'MCI', 'AD'], y=ad_final, color='indianred', label='AD')\n",
    "sns.barplot(x=['CN', 'MCI', 'AD'], y=mci_final, color='limegreen', label='MCI')\n",
    "sns.barplot(x=['CN', 'MCI', 'AD'], y=cn_final, color='royalblue', label='CN')\n",
    "plt.xlabel('Baseline Diagnosis')\n",
    "plt.ylabel('Number of Patients')\n",
    "plt.title('Final Diagnosis from Baseline Diagnosis')\n",
    "plt.legend(title='Final Diagnosis')"
   ]
  },
  {
   "cell_type": "code",
   "execution_count": 110,
   "metadata": {},
   "outputs": [],
   "source": [
    "cn_stayed = final_exam[(final_exam.DX == 'CN') & (final_exam.DX_bl == 'CN')]"
   ]
  },
  {
   "cell_type": "code",
   "execution_count": 111,
   "metadata": {},
   "outputs": [
    {
     "data": {
      "text/plain": [
       "(294, 30)"
      ]
     },
     "execution_count": 111,
     "metadata": {},
     "output_type": "execute_result"
    }
   ],
   "source": [
    "# 42 CN GOT WORSE AND 294 STAYED NORMAL\n",
    "\n",
    "cn_stayed.shape"
   ]
  },
  {
   "cell_type": "code",
   "execution_count": 112,
   "metadata": {},
   "outputs": [],
   "source": [
    "cn = final_exam[(final_exam['DX_bl'] == 'CN') | (final_exam['DX_bl'] == 'SMC')]"
   ]
  },
  {
   "cell_type": "code",
   "execution_count": 113,
   "metadata": {},
   "outputs": [
    {
     "data": {
      "text/plain": [
       "(377, 30)"
      ]
     },
     "execution_count": 113,
     "metadata": {},
     "output_type": "execute_result"
    }
   ],
   "source": [
    "cn.shape"
   ]
  },
  {
   "cell_type": "code",
   "execution_count": 114,
   "metadata": {},
   "outputs": [],
   "source": [
    "cn_gotworse = cn[cn['DX'] != 'CN']"
   ]
  },
  {
   "cell_type": "code",
   "execution_count": 115,
   "metadata": {},
   "outputs": [
    {
     "data": {
      "text/plain": [
       "(42, 30)"
      ]
     },
     "execution_count": 115,
     "metadata": {},
     "output_type": "execute_result"
    }
   ],
   "source": [
    "cn_gotworse.shape"
   ]
  },
  {
   "cell_type": "code",
   "execution_count": 116,
   "metadata": {},
   "outputs": [],
   "source": [
    "cn_nochange = cn.shape[0] - cn_gotworse.shape[0]"
   ]
  },
  {
   "cell_type": "code",
   "execution_count": 117,
   "metadata": {},
   "outputs": [],
   "source": [
    "cn_to_mci = cn_gotworse[cn_gotworse['DX'] == 'MCI']\n",
    "cn_to_ad = cn_gotworse[cn_gotworse['DX'] == 'AD']"
   ]
  },
  {
   "cell_type": "code",
   "execution_count": 118,
   "metadata": {},
   "outputs": [
    {
     "data": {
      "text/plain": [
       "Text(0.5, 1.0, 'Final Diagnosis from CN Baseline Patients')"
      ]
     },
     "execution_count": 118,
     "metadata": {},
     "output_type": "execute_result"
    },
    {
     "data": {
      "image/png": "[encoded data removed]",
      "text/plain": [
       "<Figure size 432x288 with 1 Axes>"
      ]
     },
     "metadata": {},
     "output_type": "display_data"
    }
   ],
   "source": [
    "sns.barplot(x=['No Change', '+MCI', '+AD'], y=[cn_nochange, cn_to_mci.shape[0], cn_to_ad.shape[0]])\n",
    "plt.xlabel('Change in Diagnosis')\n",
    "plt.ylabel('Number of Patients')\n",
    "plt.title('Final Diagnosis from CN Baseline Patients')"
   ]
  },
  {
   "cell_type": "code",
   "execution_count": null,
   "metadata": {},
   "outputs": [],
   "source": []
  },
  {
   "cell_type": "code",
   "execution_count": null,
   "metadata": {},
   "outputs": [],
   "source": []
  },
  {
   "cell_type": "code",
   "execution_count": 119,
   "metadata": {},
   "outputs": [],
   "source": [
    "mci = final_exam[(final_exam['DX_bl'] == 'LMCI') | (final_exam['DX_bl'] == 'EMCI')]"
   ]
  },
  {
   "cell_type": "code",
   "execution_count": 120,
   "metadata": {},
   "outputs": [],
   "source": [
    "mci_gotworse = mci[mci['DX'] == 'AD']"
   ]
  },
  {
   "cell_type": "code",
   "execution_count": 121,
   "metadata": {},
   "outputs": [],
   "source": [
    "mci_gotbetter = mci[mci['DX'] == 'CN']"
   ]
  },
  {
   "cell_type": "code",
   "execution_count": 122,
   "metadata": {},
   "outputs": [
    {
     "data": {
      "text/plain": [
       "(619, 30)"
      ]
     },
     "execution_count": 122,
     "metadata": {},
     "output_type": "execute_result"
    }
   ],
   "source": [
    "mci.shape"
   ]
  },
  {
   "cell_type": "code",
   "execution_count": 123,
   "metadata": {},
   "outputs": [],
   "source": [
    "mci_nochange = mci.shape[0] - mci_gotbetter.shape[0] - mci_gotworse.shape[0]"
   ]
  },
  {
   "cell_type": "code",
   "execution_count": 124,
   "metadata": {},
   "outputs": [
    {
     "data": {
      "text/plain": [
       "(34, 30)"
      ]
     },
     "execution_count": 124,
     "metadata": {},
     "output_type": "execute_result"
    }
   ],
   "source": [
    "mci_gotbetter.shape"
   ]
  },
  {
   "cell_type": "code",
   "execution_count": null,
   "metadata": {},
   "outputs": [],
   "source": []
  },
  {
   "cell_type": "code",
   "execution_count": 125,
   "metadata": {},
   "outputs": [
    {
     "data": {
      "text/plain": [
       "Text(0.5, 1.0, 'Final Diagnosis from MCI Baseline Patients')"
      ]
     },
     "execution_count": 125,
     "metadata": {},
     "output_type": "execute_result"
    },
    {
     "data": {
      "image/png": "[encoded data removed]",
      "text/plain": [
       "<Figure size 432x288 with 1 Axes>"
      ]
     },
     "metadata": {},
     "output_type": "display_data"
    }
   ],
   "source": [
    "sns.barplot(x=['Got Better', 'No Change', '+AD'], y=[mci_gotbetter.shape[0], mci_nochange, mci_gotworse.shape[0]])\n",
    "plt.xlabel('Change in Diagnosis')\n",
    "plt.ylabel('Number of Patients')\n",
    "plt.title('Final Diagnosis from MCI Baseline Patients')"
   ]
  },
  {
   "cell_type": "code",
   "execution_count": null,
   "metadata": {},
   "outputs": [],
   "source": []
  },
  {
   "cell_type": "code",
   "execution_count": null,
   "metadata": {},
   "outputs": [],
   "source": []
  },
  {
   "cell_type": "code",
   "execution_count": null,
   "metadata": {},
   "outputs": [],
   "source": []
  },
  {
   "cell_type": "code",
   "execution_count": null,
   "metadata": {},
   "outputs": [],
   "source": []
  },
  {
   "cell_type": "code",
   "execution_count": 126,
   "metadata": {},
   "outputs": [],
   "source": [
    "#clin_bl\n",
    "#clin_sub"
   ]
  },
  {
   "cell_type": "code",
   "execution_count": 127,
   "metadata": {},
   "outputs": [
    {
     "data": {
      "text/plain": [
       "Index(['EXAMDATE', 'EXAMDATE_bl', 'Month', 'PTGENDER', 'DX', 'DX_bl',\n",
       "       'PTEDUCAT', 'AGE', 'AGE_dynamic', 'CDRSB', 'CDRSB_bl', 'ADAS11',\n",
       "       'ADAS11_bl', 'ADAS13', 'ADAS13_bl', 'MMSE', 'MMSE_bl',\n",
       "       'RAVLT_immediate', 'RAVLT_immediate_bl', 'DX_bl2'],\n",
       "      dtype='object')"
      ]
     },
     "execution_count": 127,
     "metadata": {},
     "output_type": "execute_result"
    }
   ],
   "source": [
    "clin_bl.columns"
   ]
  },
  {
   "cell_type": "code",
   "execution_count": 128,
   "metadata": {},
   "outputs": [
    {
     "data": {
      "text/plain": [
       "Text(0.5, 1.0, 'Clinical Data: Patient Gender')"
      ]
     },
     "execution_count": 128,
     "metadata": {},
     "output_type": "execute_result"
    },
    {
     "data": {
      "image/png": "[encoded data removed]",
      "text/plain": [
       "<Figure size 432x288 with 1 Axes>"
      ]
     },
     "metadata": {},
     "output_type": "display_data"
    }
   ],
   "source": [
    "clin_bl['PTGENDER'].value_counts().plot(kind='bar', rot=0)\n",
    "plt.xlabel('Gender')\n",
    "plt.ylabel('Number of Patients')\n",
    "plt.title('Clinical Data: Patient Gender')"
   ]
  },
  {
   "cell_type": "code",
   "execution_count": 129,
   "metadata": {},
   "outputs": [
    {
     "data": {
      "text/plain": [
       "Text(0.5, 1.0, 'Scan Data: Patient Gender')"
      ]
     },
     "execution_count": 129,
     "metadata": {},
     "output_type": "execute_result"
    },
    {
     "data": {
      "image/png": "[encoded data removed]",
      "text/plain": [
       "<Figure size 432x288 with 1 Axes>"
      ]
     },
     "metadata": {},
     "output_type": "display_data"
    }
   ],
   "source": [
    "scan_bl['PTGENDER'].value_counts().plot(kind='bar', rot=0)\n",
    "plt.xlabel('Gender')\n",
    "plt.ylabel('Number of Patients')\n",
    "plt.title('Scan Data: Patient Gender')"
   ]
  },
  {
   "cell_type": "code",
   "execution_count": null,
   "metadata": {},
   "outputs": [],
   "source": []
  },
  {
   "cell_type": "code",
   "execution_count": null,
   "metadata": {},
   "outputs": [],
   "source": []
  },
  {
   "cell_type": "code",
   "execution_count": null,
   "metadata": {},
   "outputs": [],
   "source": []
  },
  {
   "cell_type": "code",
   "execution_count": 130,
   "metadata": {},
   "outputs": [],
   "source": [
    "# view clinical pairplot to find potential correlations\n",
    "# figure copy/pasted into image editor to zoom and view more closely\n",
    "\n",
    "sns.pairplot(clin_sub, hue='DX')"
   ]
  },
  {
   "cell_type": "markdown",
   "metadata": {},
   "source": [
    "#### Pairplot Notes: Clinical Data\n",
    "- Education has very little/no correlation with any other factor\n",
    "- Dynamic_age has very little/no correlation with other factors\n",
    "- CSRSB correlations\n",
    "    - ADAS11, ADAS13 +\n",
    "    - MMSE, RAVLT & RAVLT_bl -\n",
    "- ADAS11 & ADAS13 tightly + corr\n",
    "- MMSE & ADAS11/13 - corr\n",
    "\n",
    "\n",
    "#### Baseline data correlations with later exams\n",
    "- Baseline measures correlate more strongly with other baseline measures than subsequent measures\n",
    "    - ADAS13 negative corr with MMSE/MMSE_bl, RAVLT_immediate/RAVLT_immediate_bl\n",
    "- Baseline MMSE low correlation with clinical signs in later exams\n",
    "- Baseline RAVLT_immediate is a little better\n",
    "- ADAS11 & 13 some correlation with later exam data"
   ]
  },
  {
   "cell_type": "code",
   "execution_count": null,
   "metadata": {},
   "outputs": [],
   "source": []
  },
  {
   "cell_type": "code",
   "execution_count": null,
   "metadata": {},
   "outputs": [],
   "source": []
  },
  {
   "cell_type": "code",
   "execution_count": null,
   "metadata": {},
   "outputs": [],
   "source": []
  },
  {
   "cell_type": "code",
   "execution_count": 131,
   "metadata": {},
   "outputs": [],
   "source": [
    "# redundant, added to wrangling script\n",
    "\n",
    "# map new column for DX_bl to categorize based on subsequent DX categories\n",
    "#mapper = {'SMC': 'CN', 'LMCI': 'MCI', 'EMCI': 'MCI', 'CN': 'CN', 'AD': 'AD'}\n",
    "#final_exam.loc[:, 'DX_bl2'] = final_exam.DX_bl.map(mapper)"
   ]
  },
  {
   "cell_type": "code",
   "execution_count": 132,
   "metadata": {},
   "outputs": [
    {
     "ename": "ValueError",
     "evalue": "min() arg is an empty sequence",
     "output_type": "error",
     "traceback": [
      "\u001b[1;31m---------------------------------------------------------------------------\u001b[0m",
      "\u001b[1;31mValueError\u001b[0m                                Traceback (most recent call last)",
      "\u001b[1;32m<ipython-input-132-1f17d3e14b2f>\u001b[0m in \u001b[0;36m<module>\u001b[1;34m\u001b[0m\n\u001b[0;32m      1\u001b[0m \u001b[1;31m# baseline ADAS11 by diagnosis\u001b[0m\u001b[1;33m\u001b[0m\u001b[1;33m\u001b[0m\u001b[1;33m\u001b[0m\u001b[0m\n\u001b[0;32m      2\u001b[0m \u001b[1;33m\u001b[0m\u001b[0m\n\u001b[1;32m----> 3\u001b[1;33m \u001b[0msns\u001b[0m\u001b[1;33m.\u001b[0m\u001b[0mboxplot\u001b[0m\u001b[1;33m(\u001b[0m\u001b[0mx\u001b[0m\u001b[1;33m=\u001b[0m\u001b[1;34m'DX_bl2'\u001b[0m\u001b[1;33m,\u001b[0m \u001b[0my\u001b[0m\u001b[1;33m=\u001b[0m\u001b[1;34m'ADAS11_bl'\u001b[0m\u001b[1;33m,\u001b[0m \u001b[0mhue\u001b[0m\u001b[1;33m=\u001b[0m\u001b[1;34m'DX_bl2'\u001b[0m\u001b[1;33m,\u001b[0m \u001b[0mdata\u001b[0m\u001b[1;33m=\u001b[0m\u001b[0mclin_bl\u001b[0m\u001b[1;33m)\u001b[0m\u001b[1;33m\u001b[0m\u001b[1;33m\u001b[0m\u001b[0m\n\u001b[0m\u001b[0;32m      4\u001b[0m \u001b[0mplt\u001b[0m\u001b[1;33m.\u001b[0m\u001b[0mxlabel\u001b[0m\u001b[1;33m(\u001b[0m\u001b[1;34m'Baseline Diagnosis'\u001b[0m\u001b[1;33m)\u001b[0m\u001b[1;33m\u001b[0m\u001b[1;33m\u001b[0m\u001b[0m\n\u001b[0;32m      5\u001b[0m \u001b[0mplt\u001b[0m\u001b[1;33m.\u001b[0m\u001b[0mylabel\u001b[0m\u001b[1;33m(\u001b[0m\u001b[1;34m'ADAS11'\u001b[0m\u001b[1;33m)\u001b[0m\u001b[1;33m\u001b[0m\u001b[1;33m\u001b[0m\u001b[0m\n",
      "\u001b[1;32mC:\\ProgramData\\Anaconda3\\lib\\site-packages\\seaborn\\categorical.py\u001b[0m in \u001b[0;36mboxplot\u001b[1;34m(x, y, hue, data, order, hue_order, orient, color, palette, saturation, width, dodge, fliersize, linewidth, whis, notch, ax, **kwargs)\u001b[0m\n\u001b[0;32m   2229\u001b[0m     plotter = _BoxPlotter(x, y, hue, data, order, hue_order,\n\u001b[0;32m   2230\u001b[0m                           \u001b[0morient\u001b[0m\u001b[1;33m,\u001b[0m \u001b[0mcolor\u001b[0m\u001b[1;33m,\u001b[0m \u001b[0mpalette\u001b[0m\u001b[1;33m,\u001b[0m \u001b[0msaturation\u001b[0m\u001b[1;33m,\u001b[0m\u001b[1;33m\u001b[0m\u001b[1;33m\u001b[0m\u001b[0m\n\u001b[1;32m-> 2231\u001b[1;33m                           width, dodge, fliersize, linewidth)\n\u001b[0m\u001b[0;32m   2232\u001b[0m \u001b[1;33m\u001b[0m\u001b[0m\n\u001b[0;32m   2233\u001b[0m     \u001b[1;32mif\u001b[0m \u001b[0max\u001b[0m \u001b[1;32mis\u001b[0m \u001b[1;32mNone\u001b[0m\u001b[1;33m:\u001b[0m\u001b[1;33m\u001b[0m\u001b[1;33m\u001b[0m\u001b[0m\n",
      "\u001b[1;32mC:\\ProgramData\\Anaconda3\\lib\\site-packages\\seaborn\\categorical.py\u001b[0m in \u001b[0;36m__init__\u001b[1;34m(self, x, y, hue, data, order, hue_order, orient, color, palette, saturation, width, dodge, fliersize, linewidth)\u001b[0m\n\u001b[0;32m    445\u001b[0m \u001b[1;33m\u001b[0m\u001b[0m\n\u001b[0;32m    446\u001b[0m         \u001b[0mself\u001b[0m\u001b[1;33m.\u001b[0m\u001b[0mestablish_variables\u001b[0m\u001b[1;33m(\u001b[0m\u001b[0mx\u001b[0m\u001b[1;33m,\u001b[0m \u001b[0my\u001b[0m\u001b[1;33m,\u001b[0m \u001b[0mhue\u001b[0m\u001b[1;33m,\u001b[0m \u001b[0mdata\u001b[0m\u001b[1;33m,\u001b[0m \u001b[0morient\u001b[0m\u001b[1;33m,\u001b[0m \u001b[0morder\u001b[0m\u001b[1;33m,\u001b[0m \u001b[0mhue_order\u001b[0m\u001b[1;33m)\u001b[0m\u001b[1;33m\u001b[0m\u001b[1;33m\u001b[0m\u001b[0m\n\u001b[1;32m--> 447\u001b[1;33m         \u001b[0mself\u001b[0m\u001b[1;33m.\u001b[0m\u001b[0mestablish_colors\u001b[0m\u001b[1;33m(\u001b[0m\u001b[0mcolor\u001b[0m\u001b[1;33m,\u001b[0m \u001b[0mpalette\u001b[0m\u001b[1;33m,\u001b[0m \u001b[0msaturation\u001b[0m\u001b[1;33m)\u001b[0m\u001b[1;33m\u001b[0m\u001b[1;33m\u001b[0m\u001b[0m\n\u001b[0m\u001b[0;32m    448\u001b[0m \u001b[1;33m\u001b[0m\u001b[0m\n\u001b[0;32m    449\u001b[0m         \u001b[0mself\u001b[0m\u001b[1;33m.\u001b[0m\u001b[0mdodge\u001b[0m \u001b[1;33m=\u001b[0m \u001b[0mdodge\u001b[0m\u001b[1;33m\u001b[0m\u001b[1;33m\u001b[0m\u001b[0m\n",
      "\u001b[1;32mC:\\ProgramData\\Anaconda3\\lib\\site-packages\\seaborn\\categorical.py\u001b[0m in \u001b[0;36mestablish_colors\u001b[1;34m(self, color, palette, saturation)\u001b[0m\n\u001b[0;32m    313\u001b[0m         \u001b[1;31m# Determine the gray color to use for the lines framing the plot\u001b[0m\u001b[1;33m\u001b[0m\u001b[1;33m\u001b[0m\u001b[1;33m\u001b[0m\u001b[0m\n\u001b[0;32m    314\u001b[0m         \u001b[0mlight_vals\u001b[0m \u001b[1;33m=\u001b[0m \u001b[1;33m[\u001b[0m\u001b[0mcolorsys\u001b[0m\u001b[1;33m.\u001b[0m\u001b[0mrgb_to_hls\u001b[0m\u001b[1;33m(\u001b[0m\u001b[1;33m*\u001b[0m\u001b[0mc\u001b[0m\u001b[1;33m)\u001b[0m\u001b[1;33m[\u001b[0m\u001b[1;36m1\u001b[0m\u001b[1;33m]\u001b[0m \u001b[1;32mfor\u001b[0m \u001b[0mc\u001b[0m \u001b[1;32min\u001b[0m \u001b[0mrgb_colors\u001b[0m\u001b[1;33m]\u001b[0m\u001b[1;33m\u001b[0m\u001b[1;33m\u001b[0m\u001b[0m\n\u001b[1;32m--> 315\u001b[1;33m         \u001b[0mlum\u001b[0m \u001b[1;33m=\u001b[0m \u001b[0mmin\u001b[0m\u001b[1;33m(\u001b[0m\u001b[0mlight_vals\u001b[0m\u001b[1;33m)\u001b[0m \u001b[1;33m*\u001b[0m \u001b[1;36m.6\u001b[0m\u001b[1;33m\u001b[0m\u001b[1;33m\u001b[0m\u001b[0m\n\u001b[0m\u001b[0;32m    316\u001b[0m         \u001b[0mgray\u001b[0m \u001b[1;33m=\u001b[0m \u001b[0mmpl\u001b[0m\u001b[1;33m.\u001b[0m\u001b[0mcolors\u001b[0m\u001b[1;33m.\u001b[0m\u001b[0mrgb2hex\u001b[0m\u001b[1;33m(\u001b[0m\u001b[1;33m(\u001b[0m\u001b[0mlum\u001b[0m\u001b[1;33m,\u001b[0m \u001b[0mlum\u001b[0m\u001b[1;33m,\u001b[0m \u001b[0mlum\u001b[0m\u001b[1;33m)\u001b[0m\u001b[1;33m)\u001b[0m\u001b[1;33m\u001b[0m\u001b[1;33m\u001b[0m\u001b[0m\n\u001b[0;32m    317\u001b[0m \u001b[1;33m\u001b[0m\u001b[0m\n",
      "\u001b[1;31mValueError\u001b[0m: min() arg is an empty sequence"
     ]
    }
   ],
   "source": [
    "# baseline ADAS11 by diagnosis\n",
    "\n",
    "sns.boxplot(x='DX_bl2', y='ADAS11_bl', hue='DX_bl2', data=clin_bl)\n",
    "plt.xlabel('Baseline Diagnosis')\n",
    "plt.ylabel('ADAS11')\n",
    "plt.title('Baseline ADAS11 by Diagnosis')\n",
    "plt.legend(loc='upper left')"
   ]
  },
  {
   "cell_type": "code",
   "execution_count": null,
   "metadata": {},
   "outputs": [],
   "source": [
    "# baseline ADAS13 by diagnosis\n",
    "\n",
    "sns.boxplot(x='DX_bl2', y='ADAS13_bl', hue='DX_bl2', data=clin_bl)\n",
    "plt.xlabel('Baseline Diagnosis')\n",
    "plt.ylabel('ADAS13')\n",
    "plt.title('Baseline ADAS13 by Diagnosis')\n",
    "plt.legend(loc='upper left')"
   ]
  },
  {
   "cell_type": "code",
   "execution_count": null,
   "metadata": {},
   "outputs": [],
   "source": [
    "# find changes in CDRSB, ADAS11, ADAS13, MMSE, RAVLT_immediate, \n",
    "# Hippocampus, Ventricles, WholeBrain, Entorhinal, Midtemp\n",
    "\n",
    "final_exam.loc[:, 'CDRSB_delta'] = final_exam.CDRSB - final_exam.CDRSB_bl\n",
    "final_exam.loc[:, 'ADAS11_delta'] = final_exam.ADAS11 - final_exam.ADAS11_bl\n",
    "final_exam.loc[:, 'ADAS13_delta'] = final_exam.ADAS13 - final_exam.ADAS13_bl\n",
    "final_exam.loc[:, 'MMSE_delta'] = final_exam.MMSE - final_exam.MMSE_bl\n",
    "final_exam.loc[:, 'RAVLT_delta'] = final_exam.RAVLT_immediate - final_exam.RAVLT_immediate_bl\n",
    "final_exam.loc[:, 'Hippocampus_delta'] = final_exam.Hippocampus - final_exam.Hippocampus_bl\n",
    "final_exam.loc[:, 'Ventricles_delta'] = final_exam.Ventricles - final_exam.Ventricles_bl\n",
    "final_exam.loc[:, 'WholeBrain_delta'] = final_exam.WholeBrain - final_exam.WholeBrain_bl\n",
    "final_exam.loc[:, 'Entorhinal_delta'] = final_exam.Entorhinal - final_exam.Entorhinal_bl\n",
    "final_exam.loc[:, 'MidTemp_delta'] = final_exam.MidTemp - final_exam.MidTemp_bl"
   ]
  },
  {
   "cell_type": "code",
   "execution_count": null,
   "metadata": {},
   "outputs": [],
   "source": [
    "final_exam.head()"
   ]
  },
  {
   "cell_type": "code",
   "execution_count": null,
   "metadata": {},
   "outputs": [],
   "source": []
  },
  {
   "cell_type": "code",
   "execution_count": null,
   "metadata": {},
   "outputs": [],
   "source": [
    "# ADAS11 change separated by change in diagnosis\n",
    "no_change = final_exam[final_exam['DX'] == final_exam['DX_bl2']]\n",
    "cn_ad = final_exam[(final_exam['DX'] == 'AD') & (final_exam['DX_bl2'] == 'CN')]\n",
    "mci_ad = final_exam[(final_exam['DX'] == 'AD') & (final_exam['DX_bl2'] == 'MCI')]\n",
    "cn_mci = final_exam[(final_exam['DX'] == 'MCI') & (final_exam['DX_bl2'] == 'CN')]"
   ]
  },
  {
   "cell_type": "code",
   "execution_count": null,
   "metadata": {},
   "outputs": [],
   "source": []
  },
  {
   "cell_type": "code",
   "execution_count": null,
   "metadata": {},
   "outputs": [],
   "source": [
    "# calculate the number of observations to use in calcuting number of bins for histograms\n",
    "\n",
    "no_change_bins = int(np.sqrt(no_change.shape[0]))\n",
    "cn_ad_bins = int(np.sqrt(cn_ad.shape[0]))\n",
    "mci_ad_bins = int(np.sqrt(mci_ad.shape[0]))\n",
    "cn_mci_bins = int(np.sqrt(cn_mci.shape[0]))"
   ]
  },
  {
   "cell_type": "code",
   "execution_count": null,
   "metadata": {},
   "outputs": [],
   "source": []
  },
  {
   "cell_type": "code",
   "execution_count": null,
   "metadata": {},
   "outputs": [],
   "source": [
    "# distribution plot for CDRSB change\n",
    "\n",
    "sns.distplot(no_change.CDRSB_delta.values, hist=False, label='No Change')\n",
    "sns.distplot(cn_mci.CDRSB_delta.values, hist=False, label='CN to MCI')\n",
    "sns.distplot(mci_ad.CDRSB_delta.values, hist=False, label='MCI to AD')\n",
    "sns.distplot(cn_ad.CDRSB_delta.values, hist=False, label='CN to AD')\n",
    "\n",
    "\n",
    "\n",
    "plt.xlabel('CDRSB Change')\n",
    "plt.ylabel('Kernel Density Estimate')\n",
    "plt.title('CDRSB Change by Change in Diagnosis')\n",
    "plt.legend(loc='upper right')"
   ]
  },
  {
   "cell_type": "code",
   "execution_count": null,
   "metadata": {},
   "outputs": [],
   "source": [
    "# CDRSB change histograms\n",
    "\n",
    "plt.hist(no_change.CDRSB_delta.values, bins=no_change_bins, density=True, \n",
    "         alpha=0.6, color='blue', label='No Change')\n",
    "plt.hist(cn_mci.CDRSB_delta.values, bins=cn_mci_bins, density=True, \n",
    "         alpha=0.5, color='yellow', label='CN to MCI')\n",
    "plt.hist(mci_ad.CDRSB_delta.values, bins=mci_ad_bins, \n",
    "         density=True, alpha=0.5, color='green', label='MCI to AD')\n",
    "plt.hist(cn_ad.CDRSB_delta.values, bins=cn_ad_bins, density=True, \n",
    "         alpha=0.2, color='red', label='CN to AD')\n",
    "\n",
    "plt.xlabel('Change in CDRSB')\n",
    "plt.ylabel('Probability Density')\n",
    "plt.title('Change in CDRSB: Baseline to Final\\nby Change in Diagnosis')\n",
    "plt.legend(loc='upper right')\n",
    "plt.show()"
   ]
  },
  {
   "cell_type": "code",
   "execution_count": null,
   "metadata": {},
   "outputs": [],
   "source": [
    "# distribution plot for ADAS11 change\n",
    "\n",
    "sns.distplot(no_change.ADAS11_delta.values, hist=False, label='No Change')\n",
    "sns.distplot(cn_mci.ADAS11_delta.values, hist=False, label='CN to MCI')\n",
    "sns.distplot(mci_ad.ADAS11_delta.values, hist=False, label='MCI to AD')\n",
    "sns.distplot(cn_ad.ADAS11_delta.values, hist=False, label='CN to AD')\n",
    "\n",
    "\n",
    "\n",
    "plt.xlabel('ADAS11 Change')\n",
    "plt.ylabel('Kernel Density Estimate')\n",
    "plt.title('ADAS11 Change by Change in Diagnosis')\n",
    "plt.legend(loc='upper right')"
   ]
  },
  {
   "cell_type": "code",
   "execution_count": null,
   "metadata": {},
   "outputs": [],
   "source": [
    "# ADAS11 change histograms\n",
    "\n",
    "plt.hist(no_change.ADAS11_delta.values, bins=no_change_bins, density=True, \n",
    "         alpha=0.6, color='blue', label='No Change')\n",
    "plt.hist(cn_mci.ADAS11_delta.values, bins=cn_mci_bins, density=True, \n",
    "         alpha=0.5, color='yellow', label='CN to MCI')\n",
    "plt.hist(mci_ad.ADAS11_delta.values, bins=mci_ad_bins, density=True, \n",
    "         alpha=0.5, color='green', label='MCI to AD')\n",
    "plt.hist(cn_ad.ADAS11_delta.values, bins=cn_ad_bins, density=True, \n",
    "         alpha=0.2, color='red', label='CN to AD')\n",
    "\n",
    "plt.xlabel('Change in ADAS11')\n",
    "plt.ylabel('Probability Density')\n",
    "plt.title('Change in ADAS11: Baseline to Final\\nby Change in Diagnosis')\n",
    "plt.legend(loc='upper right')\n",
    "plt.show()"
   ]
  },
  {
   "cell_type": "code",
   "execution_count": null,
   "metadata": {},
   "outputs": [],
   "source": []
  },
  {
   "cell_type": "code",
   "execution_count": null,
   "metadata": {},
   "outputs": [],
   "source": [
    "# distribution plot for ADAS13 change\n",
    "\n",
    "sns.distplot(no_change.ADAS13_delta.values, hist=False, label='No Change')\n",
    "sns.distplot(cn_mci.ADAS13_delta.values, hist=False, label='CN to MCI')\n",
    "sns.distplot(mci_ad.ADAS13_delta.values, hist=False, label='MCI to AD')\n",
    "sns.distplot(cn_ad.ADAS13_delta.values, hist=False, label='CN to AD')\n",
    "\n",
    "\n",
    "\n",
    "plt.xlabel('ADAS13 Change')\n",
    "plt.ylabel('Kernel Density Estimate')\n",
    "plt.title('ADAS13 Change by Change in Diagnosis')\n",
    "plt.legend(loc='upper right')"
   ]
  },
  {
   "cell_type": "code",
   "execution_count": null,
   "metadata": {},
   "outputs": [],
   "source": [
    "# ADAS13 change histograms\n",
    "\n",
    "plt.hist(no_change.ADAS13_delta.values, bins=no_change_bins, density=True, \n",
    "         alpha=0.6, color='blue', label='No Change')\n",
    "plt.hist(cn_mci.ADAS13_delta.values, bins=cn_mci_bins, density=True, \n",
    "         alpha=0.5, color='yellow', label='CN to MCI')\n",
    "plt.hist(mci_ad.ADAS13_delta.values, bins=mci_ad_bins, \n",
    "         density=True, alpha=0.5, color='green', label='MCI to AD')\n",
    "plt.hist(cn_ad.ADAS13_delta.values, bins=cn_ad_bins, density=True, \n",
    "         alpha=0.2, color='red', label='CN to AD')\n",
    "\n",
    "plt.xlabel('Change in ADAS13')\n",
    "plt.ylabel('Probability Density')\n",
    "plt.title('Change in ADAS13: Baseline to Final\\nby Change in Diagnosis')\n",
    "plt.legend(loc='upper right')\n",
    "plt.show()"
   ]
  },
  {
   "cell_type": "code",
   "execution_count": null,
   "metadata": {},
   "outputs": [],
   "source": [
    "# distribution plot for MMSE change\n",
    "\n",
    "sns.distplot(no_change.MMSE_delta.values, hist=False, label='No Change')\n",
    "sns.distplot(cn_mci.MMSE_delta.values, hist=False, label='CN to MCI')\n",
    "sns.distplot(mci_ad.MMSE_delta.values, hist=False, label='MCI to AD')\n",
    "sns.distplot(cn_ad.MMSE_delta.values, hist=False, label='CN to AD')\n",
    "\n",
    "\n",
    "\n",
    "plt.xlabel('MMSE Change')\n",
    "plt.ylabel('Kernel Density Estimate')\n",
    "plt.title('MMSE Change by Change in Diagnosis')\n",
    "plt.legend(loc='upper left')"
   ]
  },
  {
   "cell_type": "code",
   "execution_count": null,
   "metadata": {},
   "outputs": [],
   "source": [
    "# MMSE change histograms\n",
    "\n",
    "plt.hist(no_change.MMSE_delta.values, bins=no_change_bins, density=True, \n",
    "         alpha=0.6, color='blue', label='No Change')\n",
    "plt.hist(cn_mci.MMSE_delta.values, bins=cn_mci_bins, density=True, \n",
    "         alpha=0.5, color='yellow', label='CN to MCI')\n",
    "plt.hist(mci_ad.MMSE_delta.values, bins=mci_ad_bins, \n",
    "         density=True, alpha=0.4, color='green', label='MCI to AD')\n",
    "plt.hist(cn_ad.MMSE_delta.values, bins=cn_ad_bins, density=True, \n",
    "         alpha=0.2, color='red', label='CN to AD')\n",
    "\n",
    "plt.xlabel('Change in MMSE')\n",
    "plt.ylabel('Probability Density')\n",
    "plt.title('Change in MMSE: Baseline to Final\\nby Change in Diagnosis')\n",
    "plt.legend(loc='upper left')\n",
    "plt.show()"
   ]
  },
  {
   "cell_type": "code",
   "execution_count": null,
   "metadata": {},
   "outputs": [],
   "source": [
    "# distribution plot for RAVLT change\n",
    "\n",
    "sns.distplot(no_change.RAVLT_delta.values, hist=False, label='No Change')\n",
    "sns.distplot(cn_mci.RAVLT_delta.values, hist=False, label='CN to MCI')\n",
    "sns.distplot(mci_ad.RAVLT_delta.values, hist=False, label='MCI to AD')\n",
    "sns.distplot(cn_ad.RAVLT_delta.values, hist=False, label='CN to AD')\n",
    "\n",
    "\n",
    "\n",
    "plt.xlabel('RAVLT Change')\n",
    "plt.ylabel('Kernel Density Estimate')\n",
    "plt.title('RAVLT Change by Change in Diagnosis')\n",
    "plt.legend(loc='upper left')"
   ]
  },
  {
   "cell_type": "code",
   "execution_count": null,
   "metadata": {},
   "outputs": [],
   "source": [
    "# RAVLT change histograms\n",
    "\n",
    "plt.hist(no_change.RAVLT_delta.values, bins=no_change_bins, density=True, \n",
    "         alpha=0.6, color='blue', label='No Change')\n",
    "plt.hist(cn_mci.RAVLT_delta.values, bins=cn_mci_bins, density=True, \n",
    "         alpha=0.5, color='yellow', label='CN to MCI')\n",
    "plt.hist(mci_ad.RAVLT_delta.values, bins=mci_ad_bins, \n",
    "         density=True, alpha=0.4, color='green', label='MCI to AD')\n",
    "plt.hist(cn_ad.RAVLT_delta.values, bins=cn_ad_bins, density=True, \n",
    "         alpha=0.2, color='red', label='CN to AD')\n",
    "\n",
    "plt.xlabel('Change in RAVLT')\n",
    "plt.ylabel('Probability Density')\n",
    "plt.title('Change in RAVLT: Baseline to Final\\nby Change in Diagnosis')\n",
    "plt.legend(loc='upper right')\n",
    "plt.show()"
   ]
  },
  {
   "cell_type": "code",
   "execution_count": null,
   "metadata": {},
   "outputs": [],
   "source": [
    "# distribution plot for Hippocampus change\n",
    "\n",
    "sns.distplot(no_change.Hippocampus_delta.values, hist=False, label='No Change')\n",
    "sns.distplot(cn_mci.Hippocampus_delta.values, hist=False, label='CN to MCI')\n",
    "sns.distplot(mci_ad.Hippocampus_delta.values, hist=False, label='MCI to AD')\n",
    "sns.distplot(cn_ad.Hippocampus_delta.values, hist=False, label='CN to AD')\n",
    "\n",
    "\n",
    "\n",
    "plt.xlabel('Hippocampus Change')\n",
    "plt.ylabel('Kernel Density Estimate')\n",
    "plt.title('Hippocampus Change by Change in Diagnosis')\n",
    "plt.legend(loc='upper left')"
   ]
  },
  {
   "cell_type": "code",
   "execution_count": null,
   "metadata": {},
   "outputs": [],
   "source": [
    "# Hippocampus change histograms\n",
    "\n",
    "plt.hist(no_change.Hippocampus_delta.values, bins=no_change_bins, density=True, \n",
    "         alpha=0.6, color='blue', label='No Change')\n",
    "plt.hist(cn_mci.Hippocampus_delta.values, bins=cn_mci_bins, density=True, \n",
    "         alpha=0.5, color='yellow', label='CN to MCI')\n",
    "plt.hist(mci_ad.Hippocampus_delta.values, bins=mci_ad_bins, \n",
    "         density=True, alpha=0.4, color='green', label='MCI to AD')\n",
    "plt.hist(cn_ad.Hippocampus_delta.values, bins=cn_ad_bins, density=True, \n",
    "         alpha=0.2, color='red', label='CN to AD')\n",
    "\n",
    "plt.xlabel('Change in Hippocampus')\n",
    "plt.ylabel('Probability Density')\n",
    "plt.title('Change in Hippocampus: Baseline to Final\\nby Change in Diagnosis')\n",
    "plt.legend(loc='upper left')\n",
    "plt.show()"
   ]
  },
  {
   "cell_type": "code",
   "execution_count": null,
   "metadata": {},
   "outputs": [],
   "source": [
    "# distribution plot for Ventricles change\n",
    "\n",
    "sns.distplot(no_change.Ventricles_delta.values, hist=False, label='No Change')\n",
    "sns.distplot(cn_mci.Ventricles_delta.values, hist=False, label='CN to MCI')\n",
    "sns.distplot(mci_ad.Ventricles_delta.values, hist=False, label='MCI to AD')\n",
    "sns.distplot(cn_ad.Ventricles_delta.values, hist=False, label='CN to AD')\n",
    "\n",
    "\n",
    "\n",
    "plt.xlabel('Ventricles Change')\n",
    "plt.ylabel('Kernel Density Estimate')\n",
    "plt.title('Ventricles Change by Change in Diagnosis')\n",
    "plt.legend(loc='upper right')"
   ]
  },
  {
   "cell_type": "code",
   "execution_count": null,
   "metadata": {},
   "outputs": [],
   "source": [
    "# Ventricles change histograms\n",
    "\n",
    "plt.hist(no_change.Ventricles_delta.values, bins=no_change_bins, density=True, \n",
    "         alpha=0.6, color='blue', label='No Change')\n",
    "plt.hist(cn_mci.Ventricles_delta.values, bins=cn_mci_bins, density=True, \n",
    "         alpha=0.5, color='yellow', label='CN to MCI')\n",
    "plt.hist(mci_ad.Ventricles_delta.values, bins=mci_ad_bins, \n",
    "         density=True, alpha=0.4, color='green', label='MCI to AD')\n",
    "plt.hist(cn_ad.Ventricles_delta.values, bins=cn_ad_bins, density=True, \n",
    "         alpha=0.2, color='red', label='CN to AD')\n",
    "\n",
    "plt.xlabel('Change in Ventricles')\n",
    "plt.ylabel('Probability Density')\n",
    "plt.title('Change in Ventricles: Baseline to Final\\nby Change in Diagnosis')\n",
    "plt.legend(loc='upper right')\n",
    "plt.show()"
   ]
  },
  {
   "cell_type": "code",
   "execution_count": null,
   "metadata": {},
   "outputs": [],
   "source": [
    "# distribution plot for WholeBrain change\n",
    "\n",
    "sns.distplot(no_change.WholeBrain_delta.values, hist=False, label='No Change')\n",
    "sns.distplot(cn_mci.WholeBrain_delta.values, hist=False, label='CN to MCI')\n",
    "sns.distplot(mci_ad.WholeBrain_delta.values, hist=False, label='MCI to AD')\n",
    "sns.distplot(cn_ad.WholeBrain_delta.values, hist=False, label='CN to AD')\n",
    "\n",
    "\n",
    "\n",
    "plt.xlabel('WholeBrain Change')\n",
    "plt.ylabel('Kernel Density Estimate')\n",
    "plt.title('WholeBrain Change by Change in Diagnosis')\n",
    "plt.legend(loc='upper left')"
   ]
  },
  {
   "cell_type": "code",
   "execution_count": null,
   "metadata": {},
   "outputs": [],
   "source": [
    "# WholeBrain change histograms\n",
    "\n",
    "plt.hist(no_change.WholeBrain_delta.values, bins=no_change_bins, density=True, \n",
    "         alpha=0.6, color='blue', label='No Change')\n",
    "plt.hist(cn_mci.WholeBrain_delta.values, bins=cn_mci_bins, density=True, \n",
    "         alpha=0.5, color='yellow', label='CN to MCI')\n",
    "plt.hist(mci_ad.WholeBrain_delta.values, bins=mci_ad_bins, \n",
    "         density=True, alpha=0.4, color='green', label='MCI to AD')\n",
    "plt.hist(cn_ad.WholeBrain_delta.values, bins=cn_ad_bins, density=True, \n",
    "         alpha=0.2, color='red', label='CN to AD')\n",
    "\n",
    "plt.xlabel('Change in WholeBrain')\n",
    "plt.ylabel('Probability Density')\n",
    "plt.title('Change in WholeBrain: Baseline to Final\\nby Change in Diagnosis')\n",
    "plt.legend(loc='upper left')\n",
    "plt.show()"
   ]
  },
  {
   "cell_type": "code",
   "execution_count": null,
   "metadata": {},
   "outputs": [],
   "source": [
    "# distribution plot for Entorhinal change\n",
    "\n",
    "sns.distplot(no_change.Entorhinal_delta.values, hist=False, label='No Change')\n",
    "sns.distplot(cn_mci.Entorhinal_delta.values, hist=False, label='CN to MCI')\n",
    "sns.distplot(mci_ad.Entorhinal_delta.values, hist=False, label='MCI to AD')\n",
    "sns.distplot(cn_ad.Entorhinal_delta.values, hist=False, label='CN to AD')\n",
    "\n",
    "\n",
    "\n",
    "plt.xlabel('Entorhinal Change')\n",
    "plt.ylabel('Kernel Density Estimate')\n",
    "plt.title('Entorhinal Change by Change in Diagnosis')\n",
    "plt.legend(loc='upper left')"
   ]
  },
  {
   "cell_type": "code",
   "execution_count": null,
   "metadata": {},
   "outputs": [],
   "source": [
    "# Entorhinal change histograms\n",
    "\n",
    "plt.hist(no_change.Entorhinal_delta.values, bins=no_change_bins, density=True, \n",
    "         alpha=0.6, color='blue', label='No Change')\n",
    "plt.hist(cn_mci.Entorhinal_delta.values, bins=cn_mci_bins, density=True, \n",
    "         alpha=0.5, color='yellow', label='CN to MCI')\n",
    "plt.hist(mci_ad.Entorhinal_delta.values, bins=mci_ad_bins, \n",
    "         density=True, alpha=0.4, color='green', label='MCI to AD')\n",
    "plt.hist(cn_ad.Entorhinal_delta.values, bins=cn_ad_bins, density=True, \n",
    "         alpha=0.2, color='red', label='CN to AD')\n",
    "\n",
    "plt.xlabel('Change in Entorhinal')\n",
    "plt.ylabel('Probability Density')\n",
    "plt.title('Change in Entorhinal: Baseline to Final\\nby Change in Diagnosis')\n",
    "plt.legend(loc='upper left')\n",
    "plt.show()"
   ]
  },
  {
   "cell_type": "code",
   "execution_count": null,
   "metadata": {},
   "outputs": [],
   "source": [
    "# distribution plot for MidTemp change\n",
    "\n",
    "sns.distplot(no_change.MidTemp_delta.values, hist=False, label='No Change')\n",
    "sns.distplot(cn_mci.MidTemp_delta.values, hist=False, label='CN to MCI')\n",
    "sns.distplot(mci_ad.MidTemp_delta.values, hist=False, label='MCI to AD')\n",
    "sns.distplot(cn_ad.MidTemp_delta.values, hist=False, label='CN to AD')\n",
    "\n",
    "\n",
    "\n",
    "plt.xlabel('MidTemp Change')\n",
    "plt.ylabel('Kernel Density Estimate')\n",
    "plt.title('MidTemp Change by Change in Diagnosis')\n",
    "plt.legend(loc='upper left')"
   ]
  },
  {
   "cell_type": "code",
   "execution_count": null,
   "metadata": {},
   "outputs": [],
   "source": [
    "# MidTemp change histograms\n",
    "\n",
    "plt.hist(no_change.MidTemp_delta.values, bins=no_change_bins, density=True, \n",
    "         alpha=0.6, color='blue', label='No Change')\n",
    "plt.hist(cn_mci.MidTemp_delta.values, bins=cn_mci_bins, density=True, \n",
    "         alpha=0.5, color='yellow', label='CN to MCI')\n",
    "plt.hist(mci_ad.MidTemp_delta.values, bins=mci_ad_bins, \n",
    "         density=True, alpha=0.4, color='green', label='MCI to AD')\n",
    "plt.hist(cn_ad.MidTemp_delta.values, bins=cn_ad_bins, density=True, \n",
    "         alpha=0.2, color='red', label='CN to AD')\n",
    "\n",
    "plt.xlabel('Change in MidTemp')\n",
    "plt.ylabel('Probability Density')\n",
    "plt.title('Change in MidTemp: Baseline to Final\\nby Change in Diagnosis')\n",
    "plt.legend(loc='upper left')\n",
    "plt.show()"
   ]
  },
  {
   "cell_type": "code",
   "execution_count": null,
   "metadata": {},
   "outputs": [],
   "source": []
  },
  {
   "cell_type": "code",
   "execution_count": null,
   "metadata": {},
   "outputs": [],
   "source": []
  },
  {
   "cell_type": "code",
   "execution_count": null,
   "metadata": {},
   "outputs": [],
   "source": [
    "sns.pairplot(scan_sub, hue='DX')"
   ]
  },
  {
   "cell_type": "code",
   "execution_count": null,
   "metadata": {},
   "outputs": [],
   "source": []
  },
  {
   "cell_type": "markdown",
   "metadata": {},
   "source": [
    "#### Scan Pairplot Notes\n",
    "\n",
    "- Age has little correlation with any data\n",
    "\n",
    "\n",
    "- Baseline correlations with later scans\n",
    "    - Hippocampus_bl did correlate positively with Hippocampus, WholeBrain, Entorhinal, and MidTemp scans\n",
    "    - Baseline ventricles had low correlation with later measures\n",
    "    - WholeBrain_bl corr with Hippocampus, MidTemp, and Entorhinal\n",
    "    - Entorhinal_bl corr with Hippocampus, WholeBrain, Entorhinal, and MidTemp\n",
    "    - MidTemp_bl corr with WholeBrain, MidTemp\n",
    "    \n",
    "- Good self predictors: baseline measures correlated well with the same measure later\n",
    "    - Hippocampus, Ventricles, WholeBrain, Entorhinal, MidTemp"
   ]
  },
  {
   "cell_type": "code",
   "execution_count": null,
   "metadata": {},
   "outputs": [],
   "source": []
  },
  {
   "cell_type": "code",
   "execution_count": null,
   "metadata": {},
   "outputs": [],
   "source": []
  },
  {
   "cell_type": "code",
   "execution_count": null,
   "metadata": {},
   "outputs": [],
   "source": []
  },
  {
   "cell_type": "code",
   "execution_count": null,
   "metadata": {},
   "outputs": [],
   "source": [
    "final_exam.loc[:, 'G_DX_bl'] = final_exam.PTGENDER + '-' + final_exam.DX_bl2"
   ]
  },
  {
   "cell_type": "code",
   "execution_count": null,
   "metadata": {},
   "outputs": [],
   "source": [
    "final_exam.info()"
   ]
  },
  {
   "cell_type": "code",
   "execution_count": null,
   "metadata": {},
   "outputs": [],
   "source": [
    "# violin plots to explore baseline data for correlations to final diagnosis"
   ]
  },
  {
   "cell_type": "code",
   "execution_count": null,
   "metadata": {},
   "outputs": [],
   "source": [
    "sns.boxplot(x='DX', y='CDRSB_bl', data=final_exam, hue='PTGENDER', orient='v')\n",
    "plt.xlabel('Diagnosis')\n",
    "plt.ylabel('Baseline CDRSB')\n",
    "plt.title('Baseline CDRSB by Final Diagnosis')\n",
    "plt.legend(title='Gender')"
   ]
  },
  {
   "cell_type": "code",
   "execution_count": null,
   "metadata": {},
   "outputs": [],
   "source": [
    "sns.boxplot(x='DX', y='ADAS11_bl', data=final_exam, hue='PTGENDER', orient='v')\n",
    "plt.xlabel('Diagnosis')\n",
    "plt.ylabel('Baseline ADAS11')\n",
    "plt.title('Baseline ADAS11 by Final Diagnosis')\n",
    "plt.legend(title='Gender')"
   ]
  },
  {
   "cell_type": "code",
   "execution_count": null,
   "metadata": {},
   "outputs": [],
   "source": [
    "sns.boxplot(x='DX', y='ADAS13_bl', data=final_exam, hue='PTGENDER', orient='v')\n",
    "plt.xlabel('Diagnosis')\n",
    "plt.ylabel('Baseline ADAS13')\n",
    "plt.title('Baseline ADAS13 by Final Diagnosis')\n",
    "plt.legend(title='Gender')"
   ]
  },
  {
   "cell_type": "code",
   "execution_count": null,
   "metadata": {},
   "outputs": [],
   "source": [
    "sns.boxplot(x='DX', y='MMSE_bl', data=final_exam, hue='PTGENDER', orient='v')\n",
    "plt.xlabel('Diagnosis')\n",
    "plt.ylabel('Baseline MMSE')\n",
    "plt.title('Baseline MMSE by Final Diagnosis')\n",
    "plt.legend(title='Gender')"
   ]
  },
  {
   "cell_type": "code",
   "execution_count": null,
   "metadata": {},
   "outputs": [],
   "source": []
  },
  {
   "cell_type": "code",
   "execution_count": null,
   "metadata": {},
   "outputs": [],
   "source": []
  },
  {
   "cell_type": "code",
   "execution_count": null,
   "metadata": {},
   "outputs": [],
   "source": [
    "sns.boxplot(x='DX', y='RAVLT_immediate_bl', data=final_exam, hue='PTGENDER', orient='v')\n",
    "plt.xlabel('Diagnosis')\n",
    "plt.ylabel('Baseline RAVLT Immediate')\n",
    "plt.title('Baseline RAVLT Immediate by Final Diagnosis')\n",
    "plt.legend(title='Gender', loc='lower right')"
   ]
  },
  {
   "cell_type": "code",
   "execution_count": null,
   "metadata": {},
   "outputs": [],
   "source": [
    "sns.boxplot(x='DX', y='Hippocampus_bl', data=final_exam, hue='PTGENDER', orient='v')\n",
    "plt.xlabel('Diagnosis')\n",
    "plt.ylabel('Baseline Hippocampus')\n",
    "plt.title('Baseline Hippocampus by Final Diagnosis')\n",
    "plt.legend(title='Gender', loc='lower right')"
   ]
  },
  {
   "cell_type": "code",
   "execution_count": null,
   "metadata": {},
   "outputs": [],
   "source": [
    "sns.boxplot(x='DX', y='Ventricles_bl', data=final_exam, hue='PTGENDER', orient='v')\n",
    "plt.xlabel('Diagnosis')\n",
    "plt.ylabel('Baseline Ventricles')\n",
    "plt.title('Baseline Ventricles by Final Diagnosis')\n",
    "plt.legend(title='Gender')"
   ]
  },
  {
   "cell_type": "code",
   "execution_count": null,
   "metadata": {},
   "outputs": [],
   "source": [
    "sns.boxplot(x='DX', y='WholeBrain_bl', data=final_exam, hue='PTGENDER', orient='v')\n",
    "plt.xlabel('Diagnosis')\n",
    "plt.ylabel('Baseline WholeBrain')\n",
    "plt.title('Baseline WholeBrain by Final Diagnosis')\n",
    "plt.legend(title='Gender')"
   ]
  },
  {
   "cell_type": "code",
   "execution_count": null,
   "metadata": {},
   "outputs": [],
   "source": [
    "sns.boxplot(x='DX', y='Entorhinal_bl', data=final_exam, hue='PTGENDER', orient='v')\n",
    "plt.xlabel('Diagnosis')\n",
    "plt.ylabel('Baseline Entorhinal')\n",
    "plt.title('Baseline Entorhinal by Final Diagnosis')\n",
    "plt.legend(title='Gender')"
   ]
  },
  {
   "cell_type": "code",
   "execution_count": null,
   "metadata": {},
   "outputs": [],
   "source": [
    "sns.boxplot(x='DX', y='MidTemp_bl', data=final_exam, hue='PTGENDER', orient='v')\n",
    "plt.xlabel('Diagnosis')\n",
    "plt.ylabel('Baseline MidTemp')\n",
    "plt.title('Baseline MidTemp by Final Diagnosis')\n",
    "plt.legend(title='Gender')"
   ]
  },
  {
   "cell_type": "code",
   "execution_count": null,
   "metadata": {},
   "outputs": [],
   "source": []
  },
  {
   "cell_type": "code",
   "execution_count": null,
   "metadata": {},
   "outputs": [],
   "source": [
    "sns.boxplot(x='DX', y='ADAS11_bl', data=final_exam, hue='G_DX_bl', \n",
    "            hue_order=['Female-CN', 'Female-MCI', 'Female-AD', 'Male-CN', 'Male-MCI', 'Male-AD'], orient='v')\n",
    "plt.xlabel('Diagnosis')\n",
    "plt.ylabel('Baseline ADAS11')\n",
    "plt.title('Baseline ADAS11 by Final Diagnosis')\n",
    "#plt.legend(title='Gender')\n",
    "plt.legend(title='Gender and Baseline Diagnosis', bbox_to_anchor=(1.05, 1), loc=2, borderaxespad=0)"
   ]
  },
  {
   "cell_type": "code",
   "execution_count": null,
   "metadata": {},
   "outputs": [],
   "source": [
    "ad = final_exam[final_exam.DX == 'AD']\n",
    "mci = final_exam[final_exam.DX == 'MCI']\n",
    "cn = final_exam[final_exam.DX == 'CN']\n",
    "\n",
    "ad_f = ad[ad.PTGENDER == 'Female']\n",
    "ad_m = ad[ad.PTGENDER == 'Male']\n",
    "mci_f = mci[mci.PTGENDER == 'Female']\n",
    "mci_m = mci[mci.PTGENDER == 'Male']\n",
    "cn_f = cn[cn.PTGENDER == 'Female']\n",
    "cn_m = cn[cn.PTGENDER == 'Male']"
   ]
  },
  {
   "cell_type": "code",
   "execution_count": null,
   "metadata": {},
   "outputs": [],
   "source": [
    "# histograms of ADAS11 baseline vs final diagnosis\n",
    "\n",
    "plt.hist(cn.ADAS11_bl, bins=int(np.sqrt(cn.shape[0])), density=True, alpha=0.3, color='blue', label='CN')\n",
    "plt.hist(mci.ADAS11_bl, bins=int(np.sqrt(mci.shape[0])), density=True, alpha=0.3, color='green', label='MCI')\n",
    "plt.hist(ad.ADAS11_bl, bins=int(np.sqrt(ad.shape[0])), density=True, alpha=0.3, color='red', label='AD')\n",
    "plt.xlabel('Baseline ADAS11')\n",
    "plt.ylabel('Probability Density')\n",
    "plt.title('Baseline ADAS11 Score\\nSeparated by Final Diagnosis')\n",
    "plt.legend(title='Final Diagnosis', loc='upper right')\n",
    "plt.show()"
   ]
  },
  {
   "cell_type": "code",
   "execution_count": null,
   "metadata": {},
   "outputs": [],
   "source": [
    "plt.subplot(1, 2, 1)\n",
    "plt.hist(cn.ADAS11_bl, bins=int(np.sqrt(cn.shape[0])), density=True, alpha=0.3, color='blue', label='CN')\n",
    "plt.hist(mci.ADAS11_bl, bins=int(np.sqrt(mci.shape[0])), density=True, alpha=0.3, color='green', label='MCI')\n",
    "plt.hist(ad.ADAS11_bl, bins=int(np.sqrt(ad.shape[0])), density=True, alpha=0.3, color='red', label='AD')\n",
    "plt.xlabel('Baseline ADAS11')\n",
    "plt.ylabel('Probability Density')\n",
    "plt.title('Baseline ADAS11 Score\\nSeparated by Final Diagnosis')\n",
    "plt.legend(title='Final Diagnosis', loc='upper right')\n",
    "\n",
    "plt.subplot(1, 2, 2)\n",
    "plt.hist(cn.ADAS13_bl, bins=int(np.sqrt(cn.shape[0])), density=True, alpha=0.3, color='blue', label='CN')\n",
    "plt.hist(mci.ADAS13_bl, bins=int(np.sqrt(mci.shape[0])), density=True, alpha=0.3, color='green', label='MCI')\n",
    "plt.hist(ad.ADAS13_bl, bins=int(np.sqrt(ad.shape[0])), density=True, alpha=0.3, color='red', label='AD')\n",
    "plt.xlabel('Baseline ADAS13')\n",
    "plt.ylabel('Probability Density')\n",
    "plt.title('Baseline ADAS13 Score\\nSeparated by Final Diagnosis')\n",
    "plt.legend(title='Final Diagnosis', loc='upper right')\n",
    "\n",
    "plt.rcParams[\"figure.figsize\"] = (14,5)"
   ]
  },
  {
   "cell_type": "code",
   "execution_count": null,
   "metadata": {},
   "outputs": [],
   "source": [
    "# hist plots of baseline ADAS11 & ADAS13 by final diagnosis and gender\n",
    "\n",
    "plt.subplot(2, 2, 1)\n",
    "plt.hist(cn_f.ADAS11_bl, bins=int(np.sqrt(cn_f.shape[0])), density=True, alpha=0.3, color='blue', label='CN')\n",
    "plt.hist(mci_f.ADAS11_bl, bins=int(np.sqrt(mci_f.shape[0])), density=True, alpha=0.3, color='green', label='MCI')\n",
    "plt.hist(ad_f.ADAS11_bl, bins=int(np.sqrt(ad_f.shape[0])), density=True, alpha=0.3, color='red', label='AD')\n",
    "plt.xlabel('Baseline ADAS11')\n",
    "plt.ylabel('Probability Density')\n",
    "plt.title('Female Baseline ADAS11 Score\\nSeparated by Final Diagnosis')\n",
    "plt.legend(title='Final Diagnosis', loc='upper right')\n",
    "\n",
    "plt.subplot(2, 2, 2)\n",
    "plt.hist(cn_f.ADAS13_bl, bins=int(np.sqrt(cn_f.shape[0])), density=True, alpha=0.3, color='blue', label='CN')\n",
    "plt.hist(mci_f.ADAS13_bl, bins=int(np.sqrt(mci_f.shape[0])), density=True, alpha=0.3, color='green', label='MCI')\n",
    "plt.hist(ad_f.ADAS13_bl, bins=int(np.sqrt(ad_f.shape[0])), density=True, alpha=0.3, color='red', label='AD')\n",
    "plt.xlabel('Baseline ADAS13')\n",
    "plt.ylabel('Probability Density')\n",
    "plt.title('Female Baseline ADAS13 Score\\nSeparated by Final Diagnosis')\n",
    "plt.legend(title='Final Diagnosis', loc='upper right')\n",
    "\n",
    "plt.subplot(2, 2, 3)\n",
    "plt.hist(cn_m.ADAS11_bl, bins=int(np.sqrt(cn_f.shape[0])), density=True, alpha=0.3, color='blue', label='CN')\n",
    "plt.hist(mci_m.ADAS11_bl, bins=int(np.sqrt(mci_f.shape[0])), density=True, alpha=0.3, color='green', label='MCI')\n",
    "plt.hist(ad_m.ADAS11_bl, bins=int(np.sqrt(ad_f.shape[0])), density=True, alpha=0.3, color='red', label='AD')\n",
    "plt.xlabel('Baseline ADAS11')\n",
    "plt.ylabel('Probability Density')\n",
    "plt.title('Male Baseline ADAS11 Score\\nSeparated by Final Diagnosis')\n",
    "plt.legend(title='Final Diagnosis', loc='upper right')\n",
    "\n",
    "plt.subplot(2, 2, 4)\n",
    "plt.hist(cn_m.ADAS13_bl, bins=int(np.sqrt(cn_f.shape[0])), density=True, alpha=0.3, color='blue', label='CN')\n",
    "plt.hist(mci_m.ADAS13_bl, bins=int(np.sqrt(mci_f.shape[0])), density=True, alpha=0.3, color='green', label='MCI')\n",
    "plt.hist(ad_m.ADAS13_bl, bins=int(np.sqrt(ad_f.shape[0])), density=True, alpha=0.3, color='red', label='AD')\n",
    "plt.xlabel('Baseline ADAS13')\n",
    "plt.ylabel('Probability Density')\n",
    "plt.title('Male Baseline ADAS13 Score\\nSeparated by Final Diagnosis')\n",
    "plt.legend(title='Final Diagnosis', loc='upper right')\n",
    "\n",
    "plt.tight_layout()\n",
    "plt.subplots_adjust(top=1.2)\n",
    "\n",
    "plt.rcParams[\"figure.figsize\"] = (14,8)"
   ]
  },
  {
   "cell_type": "code",
   "execution_count": null,
   "metadata": {},
   "outputs": [],
   "source": []
  },
  {
   "cell_type": "code",
   "execution_count": null,
   "metadata": {},
   "outputs": [],
   "source": []
  },
  {
   "cell_type": "code",
   "execution_count": null,
   "metadata": {},
   "outputs": [],
   "source": []
  },
  {
   "cell_type": "code",
   "execution_count": null,
   "metadata": {},
   "outputs": [],
   "source": [
    "sns.boxplot(x='DX', y='ADAS13_bl', data=final_exam, hue='G_DX_bl', \n",
    "            hue_order=['Female-CN', 'Female-MCI', 'Female-AD', 'Male-CN', 'Male-MCI', 'Male-AD'], orient='v')\n",
    "plt.xlabel('Diagnosis')\n",
    "plt.ylabel('Baseline ADAS13')\n",
    "plt.title('Baseline ADAS13 by Final Diagnosis')\n",
    "#plt.legend(title='Gender')\n",
    "plt.legend(title='Gender and Baseline Diagnosis', bbox_to_anchor=(1.05, 1), loc=2, borderaxespad=0)"
   ]
  },
  {
   "cell_type": "code",
   "execution_count": null,
   "metadata": {},
   "outputs": [],
   "source": [
    "plt.subplot(1, 2, 1)\n",
    "sns.boxplot(x='DX', y='ADAS11_bl', data=final_exam, hue='G_DX_bl', \n",
    "            hue_order=['Female-CN', 'Female-MCI', 'Female-AD', 'Male-CN', 'Male-MCI', 'Male-AD'], orient='v')\n",
    "plt.xlabel('Final Diagnosis')\n",
    "plt.ylabel('Baseline ADAS11')\n",
    "plt.title('Baseline ADAS11 by Final Diagnosis')\n",
    "plt.legend('')\n",
    "#plt.legend(title='Gender and Baseline Diagnosis', bbox_to_anchor=(1.05, 1), loc=2, borderaxespad=0)\n",
    "\n",
    "plt.subplot(1, 2, 2)\n",
    "sns.boxplot(x='DX', y='ADAS13_bl', data=final_exam, hue='G_DX_bl', \n",
    "            hue_order=['Female-CN', 'Female-MCI', 'Female-AD', 'Male-CN', 'Male-MCI', 'Male-AD'], orient='v')\n",
    "plt.xlabel('Final Diagnosis')\n",
    "plt.ylabel('Baseline ADAS13')\n",
    "plt.title('Baseline ADAS13 by Final Diagnosis')\n",
    "#plt.legend(title='Gender')\n",
    "plt.tight_layout()\n",
    "plt.legend(title='Gender and Baseline Diagnosis', bbox_to_anchor=(1.05, 1), loc=2, borderaxespad=0)\n",
    "plt.rcParams[\"figure.figsize\"] = (10,5)"
   ]
  },
  {
   "cell_type": "code",
   "execution_count": null,
   "metadata": {},
   "outputs": [],
   "source": []
  },
  {
   "cell_type": "code",
   "execution_count": null,
   "metadata": {},
   "outputs": [],
   "source": []
  },
  {
   "cell_type": "code",
   "execution_count": null,
   "metadata": {},
   "outputs": [],
   "source": []
  },
  {
   "cell_type": "code",
   "execution_count": null,
   "metadata": {},
   "outputs": [],
   "source": []
  },
  {
   "cell_type": "code",
   "execution_count": null,
   "metadata": {},
   "outputs": [],
   "source": []
  },
  {
   "cell_type": "code",
   "execution_count": null,
   "metadata": {},
   "outputs": [],
   "source": []
  },
  {
   "cell_type": "code",
   "execution_count": null,
   "metadata": {},
   "outputs": [],
   "source": [
    "sns.boxplot(x='DX', y='Ventricles_bl', data=final_exam, hue='G_DX_bl', \n",
    "            hue_order=['Female-CN', 'Female-MCI', 'Female-AD', 'Male-CN', 'Male-MCI', 'Male-AD'], orient='v')\n",
    "plt.xlabel('Diagnosis')\n",
    "plt.ylabel('Baseline Ventricles')\n",
    "plt.title('Baseline Ventricles by Final Diagnosis')\n",
    "#plt.legend(title='Gender')\n",
    "plt.legend(title='Gender and Baseline Diagnosis', bbox_to_anchor=(1.05, 1), loc=2, borderaxespad=0)"
   ]
  },
  {
   "cell_type": "code",
   "execution_count": null,
   "metadata": {},
   "outputs": [],
   "source": []
  },
  {
   "cell_type": "code",
   "execution_count": null,
   "metadata": {},
   "outputs": [],
   "source": []
  },
  {
   "cell_type": "code",
   "execution_count": null,
   "metadata": {},
   "outputs": [],
   "source": [
    "sns.boxplot(x='DX', y='Hippocampus_bl', data=final_exam, hue='G_DX_bl', \n",
    "            hue_order=['Female-CN', 'Female-MCI', 'Female-AD', 'Male-CN', 'Male-MCI', 'Male-AD'], orient='v')\n",
    "plt.xlabel('Diagnosis')\n",
    "plt.ylabel('Baseline Hippocampus')\n",
    "plt.title('Baseline Hippocampus by Final Diagnosis')\n",
    "#plt.legend(title='Gender')\n",
    "plt.legend(title='Gender and Baseline Diagnosis', bbox_to_anchor=(1.05, 1), loc=2, borderaxespad=0)"
   ]
  },
  {
   "cell_type": "code",
   "execution_count": null,
   "metadata": {},
   "outputs": [],
   "source": [
    "sns.boxplot(x='DX', y='WholeBrain_bl', data=final_exam, hue='G_DX_bl', \n",
    "            hue_order=['Female-CN', 'Female-MCI', 'Female-AD', 'Male-CN', 'Male-MCI', 'Male-AD'], orient='v')\n",
    "plt.xlabel('Diagnosis')\n",
    "plt.ylabel('Baseline WholeBrain')\n",
    "plt.title('Baseline WholeBrain by Final Diagnosis')\n",
    "#plt.legend(title='Gender')\n",
    "plt.legend(title='Gender and Baseline Diagnosis', bbox_to_anchor=(1.05, 1), loc=2, borderaxespad=0)"
   ]
  },
  {
   "cell_type": "code",
   "execution_count": null,
   "metadata": {},
   "outputs": [],
   "source": [
    "sns.boxplot(x='DX', y='Entorhinal_bl', data=final_exam, hue='G_DX_bl', \n",
    "            hue_order=['Female-CN', 'Female-MCI', 'Female-AD', 'Male-CN', 'Male-MCI', 'Male-AD'], orient='v')\n",
    "plt.xlabel('Diagnosis')\n",
    "plt.ylabel('Baseline Entorhinal')\n",
    "plt.title('Baseline Entorhinal by Final Diagnosis')\n",
    "#plt.legend(title='Gender')\n",
    "plt.legend(title='Gender and Baseline Diagnosis', bbox_to_anchor=(1.05, 1), loc=2, borderaxespad=0)"
   ]
  },
  {
   "cell_type": "code",
   "execution_count": null,
   "metadata": {},
   "outputs": [],
   "source": [
    "sns.boxplot(x='DX', y='MidTemp_bl', data=final_exam, hue='G_DX_bl', \n",
    "            hue_order=['Female-CN', 'Female-MCI', 'Female-AD', 'Male-CN', 'Male-MCI', 'Male-AD'], orient='v')\n",
    "plt.xlabel('Diagnosis')\n",
    "plt.ylabel('Baseline MidTemp')\n",
    "plt.title('Baseline MidTemp by Final Diagnosis')\n",
    "#plt.legend(title='Gender')\n",
    "plt.legend(title='Gender and Baseline Diagnosis', bbox_to_anchor=(1.05, 1), loc=2, borderaxespad=0)"
   ]
  },
  {
   "cell_type": "code",
   "execution_count": null,
   "metadata": {},
   "outputs": [],
   "source": []
  },
  {
   "cell_type": "code",
   "execution_count": null,
   "metadata": {},
   "outputs": [],
   "source": []
  },
  {
   "cell_type": "code",
   "execution_count": null,
   "metadata": {},
   "outputs": [],
   "source": [
    "plt.subplot(1, 2, 1)\n",
    "sns.boxplot(x='DX', y='Hippocampus_bl', data=final_exam, hue='G_DX_bl', \n",
    "            hue_order=['Female-CN', 'Female-MCI', 'Female-AD', 'Male-CN', 'Male-MCI', 'Male-AD'], orient='v')\n",
    "plt.xlabel('Final Diagnosis')\n",
    "plt.ylabel('Baseline Hippocampus')\n",
    "plt.title('Baseline Hippocampus by Final Diagnosis')\n",
    "plt.legend('')\n",
    "#plt.legend(title='Gender and Baseline Diagnosis', bbox_to_anchor=(1.05, 1), loc=2, borderaxespad=0)\n",
    "\n",
    "plt.subplot(1, 2, 2)\n",
    "sns.boxplot(x='DX', y='MidTemp_bl', data=final_exam, hue='G_DX_bl', \n",
    "            hue_order=['Female-CN', 'Female-MCI', 'Female-AD', 'Male-CN', 'Male-MCI', 'Male-AD'], orient='v')\n",
    "plt.xlabel('Final Diagnosis')\n",
    "plt.ylabel('Baseline MidTemp')\n",
    "plt.title('Baseline MidTemp by Final Diagnosis')\n",
    "#plt.legend(title='Gender')\n",
    "plt.tight_layout()\n",
    "plt.legend(title='Gender and Baseline Diagnosis', bbox_to_anchor=(1.05, 1), loc=2, borderaxespad=0)\n",
    "plt.rcParams[\"figure.figsize\"] = (10,5)"
   ]
  },
  {
   "cell_type": "code",
   "execution_count": null,
   "metadata": {},
   "outputs": [],
   "source": [
    "# hist plots of baseline Hippocampus & MidTemp by final diagnosis and gender\n",
    "\n",
    "plt.subplot(2, 2, 1)\n",
    "plt.hist(cn_f.Hippocampus_bl, bins=int(np.sqrt(cn_f.shape[0])), density=True, alpha=0.3, color='blue', label='CN')\n",
    "plt.hist(mci_f.Hippocampus_bl, bins=int(np.sqrt(mci_f.shape[0])), density=True, alpha=0.3, color='green', label='MCI')\n",
    "plt.hist(ad_f.Hippocampus_bl, bins=int(np.sqrt(ad_f.shape[0])), density=True, alpha=0.3, color='red', label='AD')\n",
    "plt.xlabel('Baseline Hippocampus')\n",
    "plt.ylabel('Probability Density')\n",
    "plt.title('Female Baseline Hippocampus Score\\nSeparated by Final Diagnosis')\n",
    "plt.legend(title='Final Diagnosis', loc='upper right')\n",
    "\n",
    "plt.subplot(2, 2, 2)\n",
    "plt.hist(cn_f.MidTemp_bl, bins=int(np.sqrt(cn_f.shape[0])), density=True, alpha=0.3, color='blue', label='CN')\n",
    "plt.hist(mci_f.MidTemp_bl, bins=int(np.sqrt(mci_f.shape[0])), density=True, alpha=0.3, color='green', label='MCI')\n",
    "plt.hist(ad_f.MidTemp_bl, bins=int(np.sqrt(ad_f.shape[0])), density=True, alpha=0.3, color='red', label='AD')\n",
    "plt.xlabel('Baseline MidTemp')\n",
    "plt.ylabel('Probability Density')\n",
    "plt.title('Female Baseline MidTemp Score\\nSeparated by Final Diagnosis')\n",
    "plt.legend(title='Final Diagnosis', loc='upper right')\n",
    "\n",
    "plt.subplot(2, 2, 3)\n",
    "plt.hist(cn_m.Hippocampus_bl, bins=int(np.sqrt(cn_f.shape[0])), density=True, alpha=0.3, color='blue', label='CN')\n",
    "plt.hist(mci_m.Hippocampus_bl, bins=int(np.sqrt(mci_f.shape[0])), density=True, alpha=0.3, color='green', label='MCI')\n",
    "plt.hist(ad_m.Hippocampus_bl, bins=int(np.sqrt(ad_f.shape[0])), density=True, alpha=0.3, color='red', label='AD')\n",
    "plt.xlabel('Baseline Hippocampus')\n",
    "plt.ylabel('Probability Density')\n",
    "plt.title('Male Baseline Hippocampus Score\\nSeparated by Final Diagnosis')\n",
    "plt.legend(title='Final Diagnosis', loc='upper right')\n",
    "\n",
    "plt.subplot(2, 2, 4)\n",
    "plt.hist(cn_m.MidTemp_bl, bins=int(np.sqrt(cn_f.shape[0])), density=True, alpha=0.3, color='blue', label='CN')\n",
    "plt.hist(mci_m.MidTemp_bl, bins=int(np.sqrt(mci_f.shape[0])), density=True, alpha=0.3, color='green', label='MCI')\n",
    "plt.hist(ad_m.MidTemp_bl, bins=int(np.sqrt(ad_f.shape[0])), density=True, alpha=0.3, color='red', label='AD')\n",
    "plt.xlabel('Baseline MidTemp')\n",
    "plt.ylabel('Probability Density')\n",
    "plt.title('Male Baseline MidTemp Score\\nSeparated by Final Diagnosis')\n",
    "plt.legend(title='Final Diagnosis', loc='upper right')\n",
    "\n",
    "plt.tight_layout()\n",
    "plt.subplots_adjust(top=1.2)\n",
    "\n",
    "plt.rcParams[\"figure.figsize\"] = (14,8)"
   ]
  },
  {
   "cell_type": "code",
   "execution_count": 135,
   "metadata": {},
   "outputs": [],
   "source": [
    "# check out bl ventricles plot vs final diagnosis\n",
    "\n",
    "adni_bl, clin_bl, scan_bl = eda.get_bl_data(adni_comp, clin_data, scan_data)"
   ]
  },
  {
   "cell_type": "code",
   "execution_count": 137,
   "metadata": {},
   "outputs": [
    {
     "data": {
      "text/html": [
       "<div>\n",
       "<style scoped>\n",
       "    .dataframe tbody tr th:only-of-type {\n",
       "        vertical-align: middle;\n",
       "    }\n",
       "\n",
       "    .dataframe tbody tr th {\n",
       "        vertical-align: top;\n",
       "    }\n",
       "\n",
       "    .dataframe thead th {\n",
       "        text-align: right;\n",
       "    }\n",
       "</style>\n",
       "<table border=\"1\" class=\"dataframe\">\n",
       "  <thead>\n",
       "    <tr style=\"text-align: right;\">\n",
       "      <th></th>\n",
       "      <th>PTGENDER</th>\n",
       "      <th>DX</th>\n",
       "      <th>DX_bl</th>\n",
       "      <th>EXAMDATE</th>\n",
       "      <th>EXAMDATE_bl</th>\n",
       "      <th>PTEDUCAT</th>\n",
       "      <th>Month</th>\n",
       "      <th>AGE</th>\n",
       "      <th>CDRSB</th>\n",
       "      <th>CDRSB_bl</th>\n",
       "      <th>...</th>\n",
       "      <th>Ventricles</th>\n",
       "      <th>Ventricles_bl</th>\n",
       "      <th>WholeBrain</th>\n",
       "      <th>WholeBrain_bl</th>\n",
       "      <th>Entorhinal</th>\n",
       "      <th>Entorhinal_bl</th>\n",
       "      <th>MidTemp</th>\n",
       "      <th>MidTemp_bl</th>\n",
       "      <th>AGE_dynamic</th>\n",
       "      <th>DX_bl2</th>\n",
       "    </tr>\n",
       "  </thead>\n",
       "  <tbody>\n",
       "    <tr>\n",
       "      <th>3</th>\n",
       "      <td>Male</td>\n",
       "      <td>AD</td>\n",
       "      <td>AD</td>\n",
       "      <td>2007-09-12 00:00:00</td>\n",
       "      <td>2005-09-12 00:00:00</td>\n",
       "      <td>18</td>\n",
       "      <td>24</td>\n",
       "      <td>81.3</td>\n",
       "      <td>8</td>\n",
       "      <td>4.5</td>\n",
       "      <td>...</td>\n",
       "      <td>97420</td>\n",
       "      <td>84599</td>\n",
       "      <td>1.08856e+06</td>\n",
       "      <td>1.12983e+06</td>\n",
       "      <td>1175</td>\n",
       "      <td>1791</td>\n",
       "      <td>16398</td>\n",
       "      <td>18422</td>\n",
       "      <td>83.3</td>\n",
       "      <td>AD</td>\n",
       "    </tr>\n",
       "    <tr>\n",
       "      <th>4</th>\n",
       "      <td>Male</td>\n",
       "      <td>MCI</td>\n",
       "      <td>LMCI</td>\n",
       "      <td>2008-11-18 00:00:00</td>\n",
       "      <td>2005-11-08 00:00:00</td>\n",
       "      <td>10</td>\n",
       "      <td>36</td>\n",
       "      <td>67.5</td>\n",
       "      <td>1</td>\n",
       "      <td>1</td>\n",
       "      <td>...</td>\n",
       "      <td>45254</td>\n",
       "      <td>39605</td>\n",
       "      <td>1.08535e+06</td>\n",
       "      <td>1.15498e+06</td>\n",
       "      <td>3052</td>\n",
       "      <td>3983</td>\n",
       "      <td>18934</td>\n",
       "      <td>19615</td>\n",
       "      <td>70.5</td>\n",
       "      <td>MCI</td>\n",
       "    </tr>\n",
       "    <tr>\n",
       "      <th>5</th>\n",
       "      <td>Male</td>\n",
       "      <td>CN</td>\n",
       "      <td>CN</td>\n",
       "      <td>2008-09-10 00:00:00</td>\n",
       "      <td>2005-09-07 00:00:00</td>\n",
       "      <td>16</td>\n",
       "      <td>36</td>\n",
       "      <td>73.7</td>\n",
       "      <td>1</td>\n",
       "      <td>0</td>\n",
       "      <td>...</td>\n",
       "      <td>41656</td>\n",
       "      <td>34062</td>\n",
       "      <td>1.08049e+06</td>\n",
       "      <td>1.11663e+06</td>\n",
       "      <td>3605</td>\n",
       "      <td>4433</td>\n",
       "      <td>20398</td>\n",
       "      <td>21614</td>\n",
       "      <td>76.7</td>\n",
       "      <td>CN</td>\n",
       "    </tr>\n",
       "    <tr>\n",
       "      <th>6</th>\n",
       "      <td>Female</td>\n",
       "      <td>MCI</td>\n",
       "      <td>LMCI</td>\n",
       "      <td>2008-12-08 00:00:00</td>\n",
       "      <td>2005-11-29 00:00:00</td>\n",
       "      <td>13</td>\n",
       "      <td>36</td>\n",
       "      <td>80.4</td>\n",
       "      <td>2</td>\n",
       "      <td>0.5</td>\n",
       "      <td>...</td>\n",
       "      <td>46549</td>\n",
       "      <td>39826</td>\n",
       "      <td>924403</td>\n",
       "      <td>927510</td>\n",
       "      <td>2309</td>\n",
       "      <td>2277</td>\n",
       "      <td>17356</td>\n",
       "      <td>17802</td>\n",
       "      <td>83.4</td>\n",
       "      <td>MCI</td>\n",
       "    </tr>\n",
       "    <tr>\n",
       "      <th>7</th>\n",
       "      <td>Male</td>\n",
       "      <td>AD</td>\n",
       "      <td>AD</td>\n",
       "      <td>2006-04-13 00:00:00</td>\n",
       "      <td>2005-10-06 00:00:00</td>\n",
       "      <td>10</td>\n",
       "      <td>6</td>\n",
       "      <td>75.4</td>\n",
       "      <td>6</td>\n",
       "      <td>6</td>\n",
       "      <td>...</td>\n",
       "      <td>26810</td>\n",
       "      <td>25704</td>\n",
       "      <td>858947</td>\n",
       "      <td>875798</td>\n",
       "      <td>2294</td>\n",
       "      <td>2050</td>\n",
       "      <td>14459</td>\n",
       "      <td>15374</td>\n",
       "      <td>75.9</td>\n",
       "      <td>AD</td>\n",
       "    </tr>\n",
       "  </tbody>\n",
       "</table>\n",
       "<p>5 rows × 30 columns</p>\n",
       "</div>"
      ],
      "text/plain": [
       "  PTGENDER   DX DX_bl             EXAMDATE          EXAMDATE_bl PTEDUCAT  \\\n",
       "3     Male   AD    AD  2007-09-12 00:00:00  2005-09-12 00:00:00       18   \n",
       "4     Male  MCI  LMCI  2008-11-18 00:00:00  2005-11-08 00:00:00       10   \n",
       "5     Male   CN    CN  2008-09-10 00:00:00  2005-09-07 00:00:00       16   \n",
       "6   Female  MCI  LMCI  2008-12-08 00:00:00  2005-11-29 00:00:00       13   \n",
       "7     Male   AD    AD  2006-04-13 00:00:00  2005-10-06 00:00:00       10   \n",
       "\n",
       "  Month   AGE CDRSB CDRSB_bl  ... Ventricles Ventricles_bl   WholeBrain  \\\n",
       "3    24  81.3     8      4.5  ...      97420         84599  1.08856e+06   \n",
       "4    36  67.5     1        1  ...      45254         39605  1.08535e+06   \n",
       "5    36  73.7     1        0  ...      41656         34062  1.08049e+06   \n",
       "6    36  80.4     2      0.5  ...      46549         39826       924403   \n",
       "7     6  75.4     6        6  ...      26810         25704       858947   \n",
       "\n",
       "  WholeBrain_bl Entorhinal Entorhinal_bl MidTemp MidTemp_bl AGE_dynamic DX_bl2  \n",
       "3   1.12983e+06       1175          1791   16398      18422        83.3     AD  \n",
       "4   1.15498e+06       3052          3983   18934      19615        70.5    MCI  \n",
       "5   1.11663e+06       3605          4433   20398      21614        76.7     CN  \n",
       "6        927510       2309          2277   17356      17802        83.4    MCI  \n",
       "7        875798       2294          2050   14459      15374        75.9     AD  \n",
       "\n",
       "[5 rows x 30 columns]"
      ]
     },
     "execution_count": 137,
     "metadata": {},
     "output_type": "execute_result"
    }
   ],
   "source": [
    "final_exam.head()"
   ]
  },
  {
   "cell_type": "code",
   "execution_count": null,
   "metadata": {},
   "outputs": [],
   "source": []
  }
 ],
 "metadata": {
  "kernelspec": {
   "display_name": "Python 3",
   "language": "python",
   "name": "python3"
  },
  "language_info": {
   "codemirror_mode": {
    "name": "ipython",
    "version": 3
   },
   "file_extension": ".py",
   "mimetype": "text/x-python",
   "name": "python",
   "nbconvert_exporter": "python",
   "pygments_lexer": "ipython3",
   "version": "3.7.3"
  }
 },
 "nbformat": 4,
 "nbformat_minor": 4
}
