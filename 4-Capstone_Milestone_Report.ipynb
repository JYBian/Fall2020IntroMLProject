{
 "cells": [
  {
   "cell_type": "markdown",
   "metadata": {},
   "source": [
    "# Final Project"
   ]
  },
  {
   "cell_type": "markdown",
   "metadata": {},
   "source": [
    "## Project Structure"
   ]
  },
  {
   "cell_type": "markdown",
   "metadata": {},
   "source": [
    "This project is divided into 5 parts:\n",
    "1. Background\n",
    "2. Data Inspection\n",
    "3. SVM\n",
    "4. Logistic Regression \n",
    "5. Methods with PCA"
   ]
  },
  {
   "cell_type": "markdown",
   "metadata": {},
   "source": [
    "## Background"
   ]
  },
  {
   "cell_type": "markdown",
   "metadata": {},
   "source": [
    "Our goal of this project is to improve ways of pre-judging Alzheimer’s by studying brain Atlas/brain Percolation Data based on MIT's [project](https://github.com/chuktuk/Alzheimers_Disease_Analysis/tree/8a182f3e4ab2b4b88b48294186ece2fa81131cb9). The data set we used are from ADNI [website](http://adni.loni.usc.edu/data-samples/access-data/). Until now we have find three ways of imporing the existing work:\n",
    "1. Using SVM\n",
    "2. Using CNN\n",
    "3. Applying PCA to pre-process data"
   ]
  },
  {
   "cell_type": "markdown",
   "metadata": {},
   "source": [
    "## Data Inspection"
   ]
  },
  {
   "cell_type": "markdown",
   "metadata": {},
   "source": [
    "### Introduction\n",
    "AD is the most expensive disease in America according to the [Alzheimer’s Association](alz.org), therefore, we are trying to find ways of pre-judging Alzheimer’s by studying related dataset. This dataset was chosen because it contains information collected from the same patients over multiple exams that were conducted years apart in many cases."
   ]
  },
  {
   "cell_type": "code",
   "execution_count": 13,
   "metadata": {},
   "outputs": [],
   "source": [
    "import numpy as np\n",
    "import pandas as pd\n",
    "import matplotlib.pyplot as plt\n",
    "%matplotlib inline\n",
    "\n",
    "# import wrangle_adni to import/wrangle the data\n",
    "from adnidatawrangling import wrangle_adni\n",
    "\n",
    "# import modules from MIT work called eda, sda, ml for exploratory/statistical data analysis\n",
    "import eda, sda, ml"
   ]
  },
  {
   "cell_type": "markdown",
   "metadata": {},
   "source": [
    "### Row Data \n",
    "\n",
    "We used the data from ADNIMERGE.csv, which were processed as follows:\n",
    "1. Look into dataframes using `.head()`\n",
    "2. As inspired by previous work, using `.isnull().sum()` and `isnull().mean()` to describe missing values\n",
    "3. For more resonable data, we filted the data, with only patients with at least two exams performed remained\n",
    "4. As pointed by previous work, `final_exam` containes columns for the baseline values for each biomarker, therefore, it is treated as a more meaningful dataframe"
   ]
  },
  {
   "cell_type": "code",
   "execution_count": 5,
   "metadata": {},
   "outputs": [],
   "source": [
    "# import data, clean, and extract data\n",
    "adni_comp, clin_data, scan_data = wrangle_adni()"
   ]
  },
  {
   "cell_type": "code",
   "execution_count": 6,
   "metadata": {},
   "outputs": [],
   "source": [
    "# extract final exam data: only the last exam for each patient\n",
    "final_exam = eda.get_final_exam(adni_comp)"
   ]
  },
  {
   "cell_type": "code",
   "execution_count": 8,
   "metadata": {},
   "outputs": [
    {
     "data": {
      "text/plain": [
       "Male      642\n",
       "Female    528\n",
       "Name: PTGENDER, dtype: int64"
      ]
     },
     "execution_count": 8,
     "metadata": {},
     "output_type": "execute_result"
    }
   ],
   "source": [
    "# subset only the baseline data from the complete dataset\n",
    "adni_bl, clin_bl, scan_bl = eda.get_bl_data(adni_comp, clin_data, scan_data)\n",
    "final_exam.PTGENDER.value_counts()"
   ]
  },
  {
   "cell_type": "code",
   "execution_count": 10,
   "metadata": {},
   "outputs": [
    {
     "data": {
      "image/png": "[encoded data removed]",
      "text/plain": [
       "<Figure size 432x288 with 1 Axes>"
      ]
     },
     "metadata": {
      "needs_background": "light"
     },
     "output_type": "display_data"
    }
   ],
   "source": [
    "# plot baseline diagnosis\n",
    "_ = eda.plot_bl_diag(adni_bl)"
   ]
  },
  {
   "cell_type": "code",
   "execution_count": 11,
   "metadata": {},
   "outputs": [
    {
     "data": {
      "image/png": "[encoded data removed]",
      "text/plain": [
       "<Figure size 432x288 with 1 Axes>"
      ]
     },
     "metadata": {
      "needs_background": "light"
     },
     "output_type": "display_data"
    }
   ],
   "source": [
    "# plot the final diagnosis counts\n",
    "_ = eda.plot_final_diag(adni_comp)"
   ]
  },
  {
   "cell_type": "markdown",
   "metadata": {},
   "source": [
    "### Data Processing"
   ]
  },
  {
   "cell_type": "markdown",
   "metadata": {},
   "source": [
    "To get valid training and testing data, we used the following method to processing the data:"
   ]
  },
  {
   "cell_type": "code",
   "execution_count": 27,
   "metadata": {},
   "outputs": [
    {
     "name": "stdout",
     "output_type": "stream",
     "text": [
      "(12,)\n",
      "(1134, 12) (1134,)\n"
     ]
    }
   ],
   "source": [
    "from sklearn.model_selection import train_test_split\n",
    "\n",
    "# import data, clean, and extract data\n",
    "adni_comp, clin_data, scan_data = wrangle_adni()\n",
    "\n",
    "# extract final exam data: only the last exam for each patient\n",
    "final_exam = eda.get_final_exam(adni_comp)\n",
    "\n",
    "# calculate the change in variables over the course of the study\n",
    "eda.calc_deltas(final_exam)\n",
    "\n",
    "# extract and scale the deltas data for ML analysis\n",
    "feature_names, Xd, yd = ml.get_delta_scaled(final_exam)\n",
    "\n",
    "# examine the structure of the data\n",
    "print(feature_names.shape)\n",
    "print(Xd.shape, yd.shape)\n",
    "\n",
    "# split the data into test and train sets\n",
    "Xd_train, Xd_test, yd_train, yd_test = train_test_split(Xd, yd, test_size=0.3, \n",
    "                                                    random_state=21, stratify=yd)"
   ]
  },
  {
   "cell_type": "markdown",
   "metadata": {},
   "source": [
    "## SVM\n",
    "\n",
    "We first tried to find a better SVM Model for the data, the MIT work used the following settings for SVM:"
   ]
  },
  {
   "cell_type": "markdown",
   "metadata": {},
   "source": [
    "`C: 0.75, gamma: 0.08319742133210749`"
   ]
  },
  {
   "cell_type": "markdown",
   "metadata": {},
   "source": [
    "And got a training accuracy: 0.8776796973518285 "
   ]
  },
  {
   "cell_type": "markdown",
   "metadata": {},
   "source": [
    "and test accuracy: 0.8533724340175953"
   ]
  },
  {
   "cell_type": "markdown",
   "metadata": {},
   "source": [
    "By preforming cross-valiation on different C and gamma values, our choice of SVM finally is `C=2.8, gamma=0.0073` with rbf kernel, and got an accuracy at 0.891496, which increased a little performance of the SVM model."
   ]
  },
  {
   "cell_type": "code",
   "execution_count": 29,
   "metadata": {},
   "outputs": [
    {
     "name": "stdout",
     "output_type": "stream",
     "text": [
      "[LibSVM]The test accuracy is: 0.891496\n"
     ]
    }
   ],
   "source": [
    "# newly constructed svm\n",
    "from sklearn import svm\n",
    "svc_tentative = svm.SVC(probability=False,  kernel=\"rbf\", C=2.8, gamma=.0073, verbose=10)\n",
    "svc_tentative.fit(Xd_train,yd_train)\n",
    "\n",
    "yhat = svc_tentative.predict(Xd_test)\n",
    "print('The test accuracy is: %f' % np.mean(yhat == yd_test))"
   ]
  },
  {
   "cell_type": "markdown",
   "metadata": {},
   "source": [
    "We can look into data from confusion matrix:"
   ]
  },
  {
   "cell_type": "code",
   "execution_count": 33,
   "metadata": {},
   "outputs": [
    {
     "name": "stdout",
     "output_type": "stream",
     "text": [
      "[[277  10]\n",
      " [ 27  27]]\n",
      "True Negatives: 277\n",
      "False Positives: 10\n",
      "False Negatives: 27\n",
      "True Positives: 27\n",
      "Detection Rate: 0.5\n",
      "False Positive Rate: 0.03484320557491289\n"
     ]
    }
   ],
   "source": [
    "# print the confusion matrix\n",
    "print(confusion_matrix(yd_test, yhat))\n",
    "tn, fp, fn, tp = confusion_matrix(yd_test, yhat).ravel()\n",
    "dr = tp / (tp + fn)\n",
    "fpr = fp / (fp + tn)\n",
    "print('True Negatives: {}'.format(tn))\n",
    "print('False Positives: {}'.format(fp))\n",
    "print('False Negatives: {}'.format(fn))\n",
    "print('True Positives: {}'.format(tp))\n",
    "print('Detection Rate: {}'.format(dr))\n",
    "print('False Positive Rate: {}'.format(fpr))"
   ]
  },
  {
   "cell_type": "markdown",
   "metadata": {},
   "source": [
    "## Logistic Regression\n",
    "We then tried method of Logistic Regression, for the work of MIT, they used:"
   ]
  },
  {
   "cell_type": "code",
   "execution_count": 39,
   "metadata": {},
   "outputs": [],
   "source": [
    "from sklearn import linear_model\n",
    "# build the model\n",
    "logreg = linear_model.LogisticRegression(solver='lbfgs', class_weight='balanced', random_state=42)\n",
    "\n",
    "# fit the model\n",
    "logreg.fit(Xd_train, yd_train)\n",
    "\n",
    "# generate predictions\n",
    "y_pred = logreg.predict(Xd_test)"
   ]
  },
  {
   "cell_type": "markdown",
   "metadata": {},
   "source": [
    "And got an accuracy at:"
   ]
  },
  {
   "cell_type": "code",
   "execution_count": 41,
   "metadata": {},
   "outputs": [
    {
     "name": "stdout",
     "output_type": "stream",
     "text": [
      "The training accuracy was: 0.8663303909205549\n",
      "The test accuracy was: 0.8651026392961877\n"
     ]
    }
   ],
   "source": [
    "# print the accuracy\n",
    "print('The training accuracy was: {}'.format(logreg.score(Xd_train, yd_train)))\n",
    "print('The test accuracy was: {}'.format(logreg.score(Xd_test, yd_test)))"
   ]
  },
  {
   "cell_type": "markdown",
   "metadata": {},
   "source": [
    "For us, we tried the following settings and got anaccuracy at:"
   ]
  },
  {
   "cell_type": "code",
   "execution_count": 42,
   "metadata": {},
   "outputs": [
    {
     "name": "stdout",
     "output_type": "stream",
     "text": [
      "Accuracy on the test data is 0.89150\n"
     ]
    }
   ],
   "source": [
    "# newly constructed module\n",
    "logreg = linear_model.LogisticRegression(C=1e5, solver='liblinear')\n",
    "logreg.fit(Xd_train,yd_train)\n",
    "\n",
    "yhat = logreg.predict(Xd_test)\n",
    "acc = np.mean(yhat == yd_test)\n",
    "print('Accuracy on the test data is %7.5f' % acc)"
   ]
  },
  {
   "cell_type": "markdown",
   "metadata": {},
   "source": [
    "Also print out the confusion matrix for reference:"
   ]
  },
  {
   "cell_type": "code",
   "execution_count": 44,
   "metadata": {},
   "outputs": [
    {
     "name": "stdout",
     "output_type": "stream",
     "text": [
      "[[249  38]\n",
      " [  8  46]]\n",
      "True Negatives: 249\n",
      "False Positives: 38\n",
      "False Negatives: 8\n",
      "True Positives: 46\n",
      "Detection Rate: 0.8518518518518519\n",
      "False Positive Rate: 0.13240418118466898\n"
     ]
    }
   ],
   "source": [
    "print(confusion_matrix(yd_test, y_pred))\n",
    "tn, fp, fn, tp = confusion_matrix(yd_test, y_pred).ravel()\n",
    "dr = tp / (tp + fn)\n",
    "fpr = fp / (fp + tn)\n",
    "print('True Negatives: {}'.format(tn))\n",
    "print('False Positives: {}'.format(fp))\n",
    "print('False Negatives: {}'.format(fn))\n",
    "print('True Positives: {}'.format(tp))\n",
    "print('Detection Rate: {}'.format(dr))\n",
    "print('False Positive Rate: {}'.format(fpr))"
   ]
  }
 ],
 "metadata": {
  "kernelspec": {
   "display_name": "Python 3",
   "language": "python",
   "name": "python3"
  },
  "language_info": {
   "codemirror_mode": {
    "name": "ipython",
    "version": 3
   },
   "file_extension": ".py",
   "mimetype": "text/x-python",
   "name": "python",
   "nbconvert_exporter": "python",
   "pygments_lexer": "ipython3",
   "version": "3.8.3"
  }
 },
 "nbformat": 4,
 "nbformat_minor": 4
}
