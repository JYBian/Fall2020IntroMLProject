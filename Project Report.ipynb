{
 "cells": [
  {
   "cell_type": "markdown",
   "metadata": {},
   "source": [
    "# Final Project"
   ]
  },
  {
   "cell_type": "markdown",
   "metadata": {},
   "source": [
    "## Project Structure"
   ]
  },
  {
   "cell_type": "markdown",
   "metadata": {},
   "source": [
    "This project is divided into 5 parts:\n",
    "1. Background\n",
    "2. Data Inspection\n",
    "3. SVM\n",
    "4. Logistic Regression \n",
    "5. Methods with PCA"
   ]
  },
  {
   "cell_type": "markdown",
   "metadata": {},
   "source": [
    "## Background"
   ]
  },
  {
   "cell_type": "markdown",
   "metadata": {},
   "source": [
    "Our goal of this project is to improve ways of pre-judging Alzheimer’s by studying brain Atlas/brain Percolation Data based on MIT's [project](https://github.com/chuktuk/Alzheimers_Disease_Analysis/tree/8a182f3e4ab2b4b88b48294186ece2fa81131cb9). The data set we used are from ADNI [website](http://adni.loni.usc.edu/data-samples/access-data/). Until now we have find three ways of imporing the existing work:\n",
    "1. Using SVM\n",
    "2. Using Logistic Regression\n",
    "3. Applying PCA to pre-process data"
   ]
  },
  {
   "cell_type": "markdown",
   "metadata": {},
   "source": [
    "## Data Inspection"
   ]
  },
  {
   "cell_type": "markdown",
   "metadata": {},
   "source": [
    "### Introduction\n",
    "AD is the most expensive disease in America according to the [Alzheimer’s Association](alz.org), therefore, we are trying to find ways of pre-judging Alzheimer’s by studying related dataset. This dataset was chosen because it contains information collected from the same patients over multiple exams that were conducted years apart in many cases."
   ]
  },
  {
   "cell_type": "code",
   "execution_count": 1,
   "metadata": {},
   "outputs": [],
   "source": [
    "import numpy as np\n",
    "import pandas as pd\n",
    "import matplotlib.pyplot as plt\n",
    "import sns as sns\n",
    "from sklearn.metrics import confusion_matrix\n",
    "%matplotlib inline\n",
    "\n",
    "# import wrangle_adni to import/wrangle the data\n",
    "from adnidatawrangling import wrangle_adni\n",
    "\n",
    "# import modules from MIT work called eda, sda, ml for exploratory/statistical data analysis\n",
    "import eda, sda, ml"
   ]
  },
  {
   "cell_type": "markdown",
   "metadata": {},
   "source": [
    "### Row Data \n",
    "\n",
    "We used the data from ADNIMERGE.csv, which were processed as follows:\n",
    "1. Look into dataframes using `.head()`\n",
    "2. As inspired by previous work, using `.isnull().sum()` and `isnull().mean()` to describe missing values\n",
    "3. For more resonable data, we filted the data, with only patients with at least two exams performed remained\n",
    "4. As pointed by previous work, `final_exam` containes columns for the baseline values for each biomarker, therefore, it is treated as a more meaningful dataframe"
   ]
  },
  {
   "cell_type": "code",
   "execution_count": 2,
   "metadata": {},
   "outputs": [],
   "source": [
    "# import data, clean, and extract data\n",
    "adni_comp, clin_data, scan_data = wrangle_adni()"
   ]
  },
  {
   "cell_type": "code",
   "execution_count": 3,
   "metadata": {},
   "outputs": [],
   "source": [
    "# extract final exam data: only the last exam for each patient\n",
    "final_exam = eda.get_final_exam(adni_comp)"
   ]
  },
  {
   "cell_type": "code",
   "execution_count": 4,
   "metadata": {},
   "outputs": [
    {
     "data": {
      "text/plain": "Male      642\nFemale    528\nName: PTGENDER, dtype: int64"
     },
     "execution_count": 4,
     "metadata": {},
     "output_type": "execute_result"
    }
   ],
   "source": [
    "# subset only the baseline data from the complete dataset\n",
    "adni_bl, clin_bl, scan_bl = eda.get_bl_data(adni_comp, clin_data, scan_data)\n",
    "final_exam.PTGENDER.value_counts()"
   ]
  },
  {
   "cell_type": "code",
   "execution_count": 5,
   "metadata": {},
   "outputs": [
    {
     "data": {
      "text/plain": "<Figure size 432x288 with 1 Axes>",
      "image/png": "[encoded data removed]"
     },
     "metadata": {},
     "output_type": "display_data"
    }
   ],
   "source": [
    "# plot baseline diagnosis\n",
    "_ = eda.plot_bl_diag(adni_bl)"
   ]
  },
  {
   "cell_type": "code",
   "execution_count": 6,
   "metadata": {},
   "outputs": [
    {
     "data": {
      "text/plain": "<Figure size 432x288 with 1 Axes>",
      "image/png": "[encoded data removed]"
     },
     "metadata": {},
     "output_type": "display_data"
    }
   ],
   "source": [
    "# plot the final diagnosis counts\n",
    "_ = eda.plot_final_diag(adni_comp)"
   ]
  },
  {
   "cell_type": "markdown",
   "metadata": {},
   "source": [
    "### Data Processing"
   ]
  },
  {
   "cell_type": "markdown",
   "metadata": {},
   "source": [
    "To get valid training and testing data, we used the following method to processing the data:"
   ]
  },
  {
   "cell_type": "code",
   "execution_count": 7,
   "metadata": {},
   "outputs": [
    {
     "name": "stdout",
     "output_type": "stream",
     "text": [
      "(12,)\n",
      "(1134, 12) (1134,)\n"
     ]
    }
   ],
   "source": [
    "from sklearn.model_selection import train_test_split\n",
    "\n",
    "# import data, clean, and extract data\n",
    "adni_comp, clin_data, scan_data = wrangle_adni()\n",
    "\n",
    "# extract final exam data: only the last exam for each patient\n",
    "final_exam = eda.get_final_exam(adni_comp)\n",
    "\n",
    "# calculate the change in variables over the course of the study\n",
    "eda.calc_deltas(final_exam)\n",
    "\n",
    "# extract and scale the deltas data for ML analysis\n",
    "feature_names, Xd, yd = ml.get_delta_scaled(final_exam)\n",
    "\n",
    "# examine the structure of the data\n",
    "print(feature_names.shape)\n",
    "print(Xd.shape, yd.shape)\n",
    "\n",
    "# split the data into test and train sets\n",
    "Xd_train, Xd_test, yd_train, yd_test = train_test_split(Xd, yd, test_size=0.3, \n",
    "                                                    random_state=21, stratify=yd)"
   ]
  },
  {
   "cell_type": "markdown",
   "metadata": {},
   "source": [
    "## SVM\n",
    "\n",
    "We first tried to find a better SVM Model for the data, the MIT work used the following settings for SVM:"
   ]
  },
  {
   "cell_type": "markdown",
   "metadata": {},
   "source": [
    "`C: 0.75, gamma: 0.08319742133210749`"
   ]
  },
  {
   "cell_type": "markdown",
   "metadata": {},
   "source": [
    "And got a training accuracy: 0.8776796973518285 "
   ]
  },
  {
   "cell_type": "markdown",
   "metadata": {},
   "source": [
    "and test accuracy: 0.8533724340175953"
   ]
  },
  {
   "cell_type": "markdown",
   "metadata": {},
   "source": [
    "By preforming cross-valiation on different C and gamma values, our choice of SVM finally is `C=2.8, gamma=0.0073` with rbf kernel, and got an accuracy at 0.891496, which increased a little performance of the SVM model."
   ]
  },
  {
   "cell_type": "code",
   "execution_count": 8,
   "metadata": {},
   "outputs": [
    {
     "name": "stdout",
     "output_type": "stream",
     "text": [
      "[LibSVM]The test accuracy is: 0.891496\n"
     ]
    }
   ],
   "source": [
    "# newly constructed svm\n",
    "from sklearn import svm\n",
    "svc_tentative = svm.SVC(probability=False,  kernel=\"rbf\", C=2.8, gamma=.0073, verbose=10)\n",
    "svc_tentative.fit(Xd_train,yd_train)\n",
    "\n",
    "yhat = svc_tentative.predict(Xd_test)\n",
    "print('The test accuracy is: %f' % np.mean(yhat == yd_test))"
   ]
  },
  {
   "cell_type": "markdown",
   "metadata": {},
   "source": [
    "We can look into data from confusion matrix:"
   ]
  },
  {
   "cell_type": "code",
   "execution_count": 9,
   "metadata": {},
   "outputs": [
    {
     "name": "stdout",
     "output_type": "stream",
     "text": [
      "[[277  10]\n",
      " [ 27  27]]\n",
      "True Negatives: 277\n",
      "False Positives: 10\n",
      "False Negatives: 27\n",
      "True Positives: 27\n",
      "Detection Rate: 0.5\n",
      "False Positive Rate: 0.03484320557491289\n"
     ]
    }
   ],
   "source": [
    "# print the confusion matrix\n",
    "print(confusion_matrix(yd_test, yhat))\n",
    "tn, fp, fn, tp = confusion_matrix(yd_test, yhat).ravel()\n",
    "dr = tp / (tp + fn)\n",
    "fpr = fp / (fp + tn)\n",
    "print('True Negatives: {}'.format(tn))\n",
    "print('False Positives: {}'.format(fp))\n",
    "print('False Negatives: {}'.format(fn))\n",
    "print('True Positives: {}'.format(tp))\n",
    "print('Detection Rate: {}'.format(dr))\n",
    "print('False Positive Rate: {}'.format(fpr))"
   ]
  },
  {
   "cell_type": "markdown",
   "metadata": {},
   "source": [
    "## Logistic Regression\n",
    "We then tried method of Logistic Regression, for the work of MIT, they used:"
   ]
  },
  {
   "cell_type": "code",
   "execution_count": 10,
   "metadata": {},
   "outputs": [],
   "source": [
    "from sklearn import linear_model\n",
    "# build the model\n",
    "logreg = linear_model.LogisticRegression(solver='lbfgs', class_weight='balanced', random_state=42)\n",
    "\n",
    "# fit the model\n",
    "logreg.fit(Xd_train, yd_train)\n",
    "\n",
    "# generate predictions\n",
    "y_pred = logreg.predict(Xd_test)"
   ]
  },
  {
   "cell_type": "markdown",
   "metadata": {},
   "source": [
    "And got an accuracy at:"
   ]
  },
  {
   "cell_type": "code",
   "execution_count": 11,
   "metadata": {},
   "outputs": [
    {
     "name": "stdout",
     "output_type": "stream",
     "text": [
      "The training accuracy was: 0.8663303909205549\n",
      "The test accuracy was: 0.8651026392961877\n"
     ]
    }
   ],
   "source": [
    "# print the accuracy\n",
    "print('The training accuracy was: {}'.format(logreg.score(Xd_train, yd_train)))\n",
    "print('The test accuracy was: {}'.format(logreg.score(Xd_test, yd_test)))"
   ]
  },
  {
   "cell_type": "markdown",
   "metadata": {},
   "source": [
    "For us, we tried the following settings and got anaccuracy at:"
   ]
  },
  {
   "cell_type": "code",
   "execution_count": 12,
   "metadata": {},
   "outputs": [
    {
     "name": "stdout",
     "output_type": "stream",
     "text": [
      "Accuracy on the test data is 0.89150\n"
     ]
    }
   ],
   "source": [
    "# newly constructed module\n",
    "logreg = linear_model.LogisticRegression(C=1e5, solver='liblinear')\n",
    "logreg.fit(Xd_train,yd_train)\n",
    "\n",
    "yhat = logreg.predict(Xd_test)\n",
    "acc = np.mean(yhat == yd_test)\n",
    "print('Accuracy on the test data is %7.5f' % acc)"
   ]
  },
  {
   "cell_type": "markdown",
   "metadata": {},
   "source": [
    "Also print out the confusion matrix for reference:"
   ]
  },
  {
   "cell_type": "code",
   "execution_count": 13,
   "metadata": {},
   "outputs": [
    {
     "name": "stdout",
     "output_type": "stream",
     "text": [
      "[[249  38]\n",
      " [  8  46]]\n",
      "True Negatives: 249\n",
      "False Positives: 38\n",
      "False Negatives: 8\n",
      "True Positives: 46\n",
      "Detection Rate: 0.8518518518518519\n",
      "False Positive Rate: 0.13240418118466898\n"
     ]
    }
   ],
   "source": [
    "print(confusion_matrix(yd_test, y_pred))\n",
    "tn, fp, fn, tp = confusion_matrix(yd_test, y_pred).ravel()\n",
    "dr = tp / (tp + fn)\n",
    "fpr = fp / (fp + tn)\n",
    "print('True Negatives: {}'.format(tn))\n",
    "print('False Positives: {}'.format(fp))\n",
    "print('False Negatives: {}'.format(fn))\n",
    "print('True Positives: {}'.format(tp))\n",
    "print('Detection Rate: {}'.format(dr))\n",
    "print('False Positive Rate: {}'.format(fpr))"
   ]
  },
  {
   "cell_type": "markdown",
   "source": [
    "## Applying PCA to pre-process data\n",
    "We then tried to improve the accuracy by applying PCA."
   ],
   "metadata": {
    "collapsed": false
   }
  },
  {
   "cell_type": "code",
   "execution_count": 14,
   "outputs": [],
   "source": [
    "from sklearn.decomposition import PCA\n",
    "\n",
    "pca = PCA()\n",
    "pca.fit(Xd_train)\n",
    "Xpca_train_all = pca.transform(Xd_train)\n",
    "Xpca_test_all = pca.transform(Xd_test)"
   ],
   "metadata": {
    "collapsed": false,
    "pycharm": {
     "name": "#%%\n"
    }
   }
  },
  {
   "cell_type": "code",
   "execution_count": 15,
   "outputs": [
    {
     "name": "stderr",
     "output_type": "stream",
     "text": [
      "c:\\users\\38569\\appdata\\local\\programs\\python\\python38\\lib\\site-packages\\seaborn\\_decorators.py:36: FutureWarning: Pass the following variables as keyword args: x, y. From version 0.12, the only valid positional argument will be `data`, and passing other arguments without an explicit keyword will result in an error or misinterpretation.\n",
      "  warnings.warn(\n"
     ]
    },
    {
     "data": {
      "text/plain": "<Figure size 432x288 with 1 Axes>",
      "image/png": "[encoded data removed]"
     },
     "metadata": {},
     "output_type": "display_data"
    }
   ],
   "source": [
    "import seaborn as sns\n",
    "\n",
    "labels = ['pc' + str(i+1) for i in range(feature_names.shape[0])]\n",
    "ax = sns.barplot(labels, pca.explained_variance_, palette='muted')\n",
    "_ = plt.setp(ax.get_xticklabels(), rotation=45)\n",
    "_ = plt.title('Principal Components\\nfor Change in Biomarkers')\n",
    "_ = plt.xlabel('Principal Component')\n",
    "_ = plt.ylabel('Explained Variance')\n"
   ],
   "metadata": {
    "collapsed": false,
    "pycharm": {
     "name": "#%%\n"
    }
   }
  },
  {
   "cell_type": "markdown",
   "source": [
    "The PCA for the change in biomarker data shows that 9 principal components can cover more than 95% of the explained variance. So we will use 9 principal components for our model."
   ],
   "metadata": {
    "collapsed": false,
    "pycharm": {
     "name": "#%% md\n"
    }
   }
  },
  {
   "cell_type": "markdown",
   "source": [
    "For the work of MIT, they used:"
   ],
   "metadata": {
    "collapsed": false,
    "pycharm": {
     "name": "#%% md\n"
    }
   }
  },
  {
   "cell_type": "code",
   "execution_count": 16,
   "outputs": [],
   "source": [
    "pca = PCA(n_components=9)"
   ],
   "metadata": {
    "collapsed": false,
    "pycharm": {
     "name": "#%%\n"
    }
   }
  },
  {
   "cell_type": "markdown",
   "source": [
    "We will now use PCA as a pre-processing step for SVM. Here we use 9 as the number of PCs. And we apply cross-validation to get the optimal C and gamma value."
   ],
   "metadata": {
    "collapsed": false,
    "pycharm": {
     "name": "#%% md\n"
    }
   }
  },
  {
   "cell_type": "code",
   "execution_count": 17,
   "outputs": [
    {
     "name": "stdout",
     "output_type": "stream",
     "text": [
      "[LibSVM][LibSVM][LibSVM][LibSVM][LibSVM][LibSVM][LibSVM][LibSVM][LibSVM][LibSVM][LibSVM][LibSVM][LibSVM][LibSVM][LibSVM][LibSVM][LibSVM][LibSVM][LibSVM][LibSVM][LibSVM][LibSVM][LibSVM][LibSVM][LibSVM][LibSVM][LibSVM][LibSVM][LibSVM][LibSVM][LibSVM][LibSVM][LibSVM][LibSVM][LibSVM][LibSVM][LibSVM][LibSVM][LibSVM][LibSVM][LibSVM][LibSVM][LibSVM][LibSVM][LibSVM][LibSVM][LibSVM][LibSVM][LibSVM][LibSVM][LibSVM][LibSVM][LibSVM][LibSVM][LibSVM][LibSVM][LibSVM][LibSVM][LibSVM][LibSVM][LibSVM][LibSVM][LibSVM][LibSVM][LibSVM][LibSVM][LibSVM][LibSVM][LibSVM][LibSVM][LibSVM][LibSVM][LibSVM][LibSVM][LibSVM][LibSVM][LibSVM][LibSVM][LibSVM][LibSVM][LibSVM][LibSVM][LibSVM][LibSVM][LibSVM][LibSVM][LibSVM][LibSVM][LibSVM][LibSVM][LibSVM][LibSVM][LibSVM][LibSVM][LibSVM][LibSVM][LibSVM][LibSVM][LibSVM][LibSVM][LibSVM][LibSVM][LibSVM][LibSVM][LibSVM][LibSVM][LibSVM][LibSVM][LibSVM][LibSVM][LibSVM][LibSVM][LibSVM][LibSVM][LibSVM][LibSVM][LibSVM][LibSVM][LibSVM][LibSVM][LibSVM][LibSVM][LibSVM][LibSVM][LibSVM][LibSVM][LibSVM][LibSVM][LibSVM][LibSVM][LibSVM][LibSVM][LibSVM][LibSVM][LibSVM][LibSVM][LibSVM][LibSVM][LibSVM][LibSVM][LibSVM][LibSVM][LibSVM][LibSVM][LibSVM][LibSVM][LibSVM][LibSVM][LibSVM][LibSVM][LibSVM][LibSVM][LibSVM][LibSVM][LibSVM][LibSVM][LibSVM][LibSVM][LibSVM][LibSVM][LibSVM][LibSVM][LibSVM][LibSVM][LibSVM][LibSVM][LibSVM][LibSVM][LibSVM][LibSVM][LibSVM][LibSVM][LibSVM][LibSVM][LibSVM][LibSVM][LibSVM][LibSVM][LibSVM][LibSVM][LibSVM][LibSVM][LibSVM][LibSVM][LibSVM][LibSVM][LibSVM][LibSVM][LibSVM][LibSVM][LibSVM][LibSVM][LibSVM][LibSVM][LibSVM][LibSVM][LibSVM][LibSVM][LibSVM][LibSVM][LibSVM][LibSVM][LibSVM][LibSVM][LibSVM][LibSVM][LibSVM][LibSVM][LibSVM][LibSVM][LibSVM][LibSVM][LibSVM][LibSVM][LibSVM][LibSVM][LibSVM][LibSVM][LibSVM][LibSVM][LibSVM][LibSVM][LibSVM][LibSVM][LibSVM][LibSVM][LibSVM][LibSVM][LibSVM][LibSVM][LibSVM][LibSVM][LibSVM][LibSVM][LibSVM][LibSVM][LibSVM][LibSVM][LibSVM][LibSVM][LibSVM][LibSVM][LibSVM][LibSVM][LibSVM][LibSVM][LibSVM][LibSVM][LibSVM][LibSVM][LibSVM][LibSVM][LibSVM][LibSVM][LibSVM][LibSVM][LibSVM][LibSVM][LibSVM][LibSVM][LibSVM][LibSVM][LibSVM][LibSVM][LibSVM][LibSVM][LibSVM][LibSVM][LibSVM][LibSVM][LibSVM][LibSVM][LibSVM][LibSVM][LibSVM][LibSVM][LibSVM][LibSVM][LibSVM][LibSVM][LibSVM][LibSVM][LibSVM][LibSVM][LibSVM][LibSVM][LibSVM][LibSVM][LibSVM][LibSVM][LibSVM][LibSVM][LibSVM][LibSVM][LibSVM][LibSVM][LibSVM][LibSVM][LibSVM][LibSVM][LibSVM][LibSVM][LibSVM][LibSVM][LibSVM][LibSVM][LibSVM][LibSVM][LibSVM][LibSVM][LibSVM][LibSVM][LibSVM][LibSVM][LibSVM][LibSVM][LibSVM][LibSVM][LibSVM][LibSVM][LibSVM][LibSVM][LibSVM][LibSVM][LibSVM][LibSVM][LibSVM][LibSVM][LibSVM][LibSVM][LibSVM][LibSVM][LibSVM][LibSVM][LibSVM][LibSVM][LibSVM][LibSVM][LibSVM][LibSVM][LibSVM][LibSVM][LibSVM][LibSVM][LibSVM][LibSVM][LibSVM][LibSVM][LibSVM][LibSVM][LibSVM][LibSVM][LibSVM][LibSVM][LibSVM][LibSVM][LibSVM][LibSVM][LibSVM][LibSVM][LibSVM][LibSVM][LibSVM][LibSVM][LibSVM][LibSVM][LibSVM][LibSVM][LibSVM][LibSVM][LibSVM][LibSVM][LibSVM][LibSVM][LibSVM][LibSVM][LibSVM][LibSVM][LibSVM][LibSVM][LibSVM][LibSVM][LibSVM][LibSVM][LibSVM][LibSVM][LibSVM][LibSVM][LibSVM][LibSVM][LibSVM][LibSVM][LibSVM][LibSVM][LibSVM][LibSVM][LibSVM][LibSVM][LibSVM][LibSVM]Max accuracy =   9.0029e-01\n",
      "Optimal C=  7.0000e-01 gam =   8.9579e-02\n"
     ]
    }
   ],
   "source": [
    "ncomp = 9\n",
    "pca = PCA(n_components=ncomp)\n",
    "pca.fit(Xd_train)\n",
    "Xpca_train_all = pca.transform(Xd_train)\n",
    "Xpca_test_all = pca.transform(Xd_test)\n",
    "\n",
    "C_test = np.linspace(0.1,2,20)\n",
    "gam_test = np.linspace(0.001,0.1,20)\n",
    "\n",
    "nC = len(C_test)\n",
    "ngam = len(gam_test)\n",
    "acc = np.zeros((nC,ngam))\n",
    "\n",
    "# TODO:  Measure and print the accuracy for each C and gamma value.  Store the results in acc\n",
    "for i, C in enumerate(C_test):\n",
    "    for j, gam in enumerate(gam_test):\n",
    "\n",
    "        # Create the SVC\n",
    "        svc = svm.SVC(probability=False,  kernel=\"rbf\", C=C, gamma=gam,verbose=10)\n",
    "\n",
    "        # Fit the data\n",
    "        svc.fit(Xpca_train_all,yd_train)\n",
    "\n",
    "        # Predict\n",
    "        yhat = svc.predict(Xpca_test_all)\n",
    "        acc[i,j] = np.mean(yhat == yd_test)\n",
    "\n",
    "\n",
    "# Print the maximum accuracy and the corresponding best C and gamma\n",
    "\n",
    "acc_max = np.max(acc)\n",
    "ind = np.argmax(acc)\n",
    "i, j = np.unravel_index(ind, (nC,ngam))\n",
    "\n",
    "print('Max accuracy = %12.4e' % acc_max)\n",
    "print('Optimal C=%12.4e gam = %12.4e' % (C_test[i], gam_test[j]))"
   ],
   "metadata": {
    "collapsed": false,
    "pycharm": {
     "name": "#%%\n"
    }
   }
  },
  {
   "cell_type": "code",
   "execution_count": 18,
   "outputs": [
    {
     "name": "stdout",
     "output_type": "stream",
     "text": [
      "[LibSVM]The test accuracy is: 0.900293\n"
     ]
    }
   ],
   "source": [
    "svc_tentative = svm.SVC(probability=False,  kernel=\"rbf\", C=C_test[i], gamma=gam_test[j], verbose=10)\n",
    "svc_tentative.fit(Xpca_train_all,yd_train)\n",
    "\n",
    "yhat = svc_tentative.predict(Xpca_test_all)\n",
    "print('The test accuracy is: %f' % np.mean(yhat == yd_test))"
   ],
   "metadata": {
    "collapsed": false,
    "pycharm": {
     "name": "#%%\n"
    }
   }
  },
  {
   "cell_type": "markdown",
   "source": [
    "Also print out the confusion matrix for reference:"
   ],
   "metadata": {
    "collapsed": false,
    "pycharm": {
     "name": "#%% md\n"
    }
   }
  },
  {
   "cell_type": "code",
   "execution_count": 19,
   "outputs": [
    {
     "name": "stdout",
     "output_type": "stream",
     "text": [
      "[[280   7]\n",
      " [ 27  27]]\n",
      "True Negatives: 280\n",
      "False Positives: 7\n",
      "False Negatives: 27\n",
      "True Positives: 27\n",
      "Detection Rate: 0.5\n",
      "False Positive Rate: 0.024390243902439025\n"
     ]
    }
   ],
   "source": [
    "print(confusion_matrix(yd_test, yhat))\n",
    "tn, fp, fn, tp = confusion_matrix(yd_test, yhat).ravel()\n",
    "dr = tp / (tp + fn)\n",
    "fpr = fp / (fp + tn)\n",
    "print('True Negatives: {}'.format(tn))\n",
    "print('False Positives: {}'.format(fp))\n",
    "print('False Negatives: {}'.format(fn))\n",
    "print('True Positives: {}'.format(tp))\n",
    "print('Detection Rate: {}'.format(dr))\n",
    "print('False Positive Rate: {}'.format(fpr))"
   ],
   "metadata": {
    "collapsed": false,
    "pycharm": {
     "name": "#%%\n"
    }
   }
  },
  {
   "cell_type": "markdown",
   "source": [
    "It can be seen that the new SVM model we PCA behaves better in test accuracy and false positive rate."
   ],
   "metadata": {
    "collapsed": false,
    "pycharm": {
     "name": "#%% md\n"
    }
   }
  },
  {
   "cell_type": "markdown",
   "source": [
    "Then we will now use PCA as a pre-processing step for logistic classification. Here we apply cross-validation to find the number of PCs."
   ],
   "metadata": {
    "collapsed": false,
    "pycharm": {
     "name": "#%% md\n"
    }
   }
  },
  {
   "cell_type": "code",
   "execution_count": 20,
   "outputs": [],
   "source": [
    "from sklearn.model_selection import KFold\n",
    "\n",
    "nfold = 5\n",
    "\n",
    "# Create a K-fold object\n",
    "kf = KFold(n_splits=nfold)\n",
    "kf.get_n_splits(Xd)\n",
    "\n",
    "# Number of PCs to try\n",
    "ncomp_test = np.arange(2,12)\n",
    "num_nc = len(ncomp_test)\n",
    "\n",
    "# Accuracy:  acc[icomp,ifold]  is test accuracy when using `ncomp = ncomp_test[icomp]` in fold `ifold`.\n",
    "acc = np.zeros((num_nc,nfold))\n",
    "\n",
    "# Loop over number of components to test\n",
    "for icomp, ncomp in enumerate(ncomp_test):\n",
    "\n",
    "    # Look over the folds\n",
    "    for ifold, I in enumerate(kf.split(Xd)):\n",
    "        Itr, Its = I\n",
    "\n",
    "        # Split data into training\n",
    "        Xtr = Xd[Itr]\n",
    "        Xts = Xd[Its]\n",
    "        ytr = yd[Itr]\n",
    "        yts = yd[Its]\n",
    "\n",
    "        # Fit the PCA on the scaled training data\n",
    "        pca = PCA(n_components=ncomp)\n",
    "        pca.fit(Xtr)\n",
    "        Ztr = pca.transform(Xtr)\n",
    "\n",
    "        # rain a classifier on the transformed training data\n",
    "        # Use a logistic regression classifier\n",
    "        logreg = linear_model.LogisticRegression(solver='lbfgs', class_weight='balanced', random_state=42)\n",
    "        logreg.fit(Ztr,ytr)\n",
    "\n",
    "        # Transform the test data through data scaler and PCA\n",
    "        Zts = pca.transform(Xts)\n",
    "\n",
    "        # Predict the labels the test data\n",
    "        yhat = logreg.predict(Zts)\n",
    "\n",
    "        # Measure the accuracy\n",
    "        acc[icomp, ifold] = np.mean(yhat == yts)"
   ],
   "metadata": {
    "collapsed": false,
    "pycharm": {
     "name": "#%%\n"
    }
   }
  },
  {
   "cell_type": "markdown",
   "source": [
    "Use the plt.errorbar function to plot the mean accuracy with error bars corresponding to the standard error of the accuracy as a function of the number of components. Find the optimal number of PCs to use according to the normal rule and one SE rule."
   ],
   "metadata": {
    "collapsed": false,
    "pycharm": {
     "name": "#%% md\n"
    }
   }
  },
  {
   "cell_type": "code",
   "execution_count": 21,
   "outputs": [
    {
     "name": "stdout",
     "output_type": "stream",
     "text": [
      "Optimal number of PCs (normal rule) = 10\n",
      "Best test accuracy =  0.8607\n",
      "Optimal number of PCs (one SE) = 7\n",
      "Best test accuracy =  0.8457\n"
     ]
    },
    {
     "data": {
      "text/plain": "<Figure size 432x288 with 1 Axes>",
      "image/png": "[encoded data removed]"
     },
     "metadata": {},
     "output_type": "display_data"
    }
   ],
   "source": [
    "acc_mean = np.mean(acc, axis=1)\n",
    "acc_se = np.std(acc, axis=1) / np.sqrt(nfold-1)\n",
    "plt.errorbar(ncomp_test, acc_mean, yerr=acc_se)\n",
    "plt.grid()\n",
    "plt.xlabel('Num PCs')\n",
    "plt.ylabel('Test accuracy')\n",
    "\n",
    "# Optimal order with the normal rule\n",
    "im = np.argmax(acc_mean)\n",
    "print('Optimal number of PCs (normal rule) = %d' % (ncomp_test[im]))\n",
    "print('Best test accuracy = %7.4f' % acc_mean[im])\n",
    "\n",
    "# Optimal order with one SE rule\n",
    "acc_tgt = acc_mean[im] - acc_se[im]\n",
    "I = np.where(acc_mean >= acc_tgt)[0]\n",
    "ise = I[0]\n",
    "print('Optimal number of PCs (one SE) = %d' % (ncomp_test[ise]))\n",
    "print('Best test accuracy = %7.4f' % acc_mean[ise])"
   ],
   "metadata": {
    "collapsed": false,
    "pycharm": {
     "name": "#%%\n"
    }
   }
  },
  {
   "cell_type": "markdown",
   "source": [
    "Considering the accuracy gained by cross-validation, we can see that the best number of PCs should be 10. So we will use 10 principal components for our model."
   ],
   "metadata": {
    "collapsed": false,
    "pycharm": {
     "name": "#%% md\n"
    }
   }
  },
  {
   "cell_type": "code",
   "execution_count": 22,
   "outputs": [
    {
     "name": "stdout",
     "output_type": "stream",
     "text": [
      "Accuracy on the test data is 0.85924\n"
     ]
    }
   ],
   "source": [
    "ncomp = 10\n",
    "pca = PCA(n_components=ncomp)\n",
    "pca.fit(Xd_train)\n",
    "Xpca_train_all = pca.transform(Xd_train)\n",
    "Xpca_test_all = pca.transform(Xd_test)\n",
    "\n",
    "logreg = linear_model.LogisticRegression(solver='lbfgs', class_weight='balanced', random_state=42)\n",
    "logreg.fit(Xpca_train_all,yd_train)\n",
    "\n",
    "yhat = logreg.predict(Xpca_test_all)\n",
    "acc = np.mean(yhat == yd_test)\n",
    "print('Accuracy on the test data is %7.5f' % acc)"
   ],
   "metadata": {
    "collapsed": false,
    "pycharm": {
     "name": "#%%\n"
    }
   }
  },
  {
   "cell_type": "markdown",
   "source": [
    "Also print out the confusion matrix for reference:"
   ],
   "metadata": {
    "collapsed": false
   }
  },
  {
   "cell_type": "code",
   "execution_count": 23,
   "outputs": [
    {
     "name": "stdout",
     "output_type": "stream",
     "text": [
      "[[246  41]\n",
      " [  7  47]]\n",
      "True Negatives: 246\n",
      "False Positives: 41\n",
      "False Negatives: 7\n",
      "True Positives: 47\n",
      "Detection Rate: 0.8703703703703703\n",
      "False Positive Rate: 0.14285714285714285\n"
     ]
    }
   ],
   "source": [
    "print(confusion_matrix(yd_test, yhat))\n",
    "tn, fp, fn, tp = confusion_matrix(yd_test, yhat).ravel()\n",
    "dr = tp / (tp + fn)\n",
    "fpr = fp / (fp + tn)\n",
    "print('True Negatives: {}'.format(tn))\n",
    "print('False Positives: {}'.format(fp))\n",
    "print('False Negatives: {}'.format(fn))\n",
    "print('True Positives: {}'.format(tp))\n",
    "print('Detection Rate: {}'.format(dr))\n",
    "print('False Positive Rate: {}'.format(fpr))"
   ],
   "metadata": {
    "collapsed": false,
    "pycharm": {
     "name": "#%%\n"
    }
   }
  },
  {
   "cell_type": "markdown",
   "source": [
    "The result shows that after applying PCA, the model behaves slightly better than the orginal one with 87.0% detection rete and 14.3% false positive rate."
   ],
   "metadata": {
    "collapsed": false,
    "pycharm": {
     "name": "#%% md\n"
    }
   }
  }
 ],
 "metadata": {
  "kernelspec": {
   "display_name": "Python 3",
   "language": "python",
   "name": "python3"
  },
  "language_info": {
   "codemirror_mode": {
    "name": "ipython",
    "version": 3
   },
   "file_extension": ".py",
   "mimetype": "text/x-python",
   "name": "python",
   "nbconvert_exporter": "python",
   "pygments_lexer": "ipython3",
   "version": "3.8.3"
  }
 },
 "nbformat": 4,
 "nbformat_minor": 4
}